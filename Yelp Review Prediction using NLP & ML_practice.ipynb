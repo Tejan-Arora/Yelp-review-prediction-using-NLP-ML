{
 "cells": [
  {
   "cell_type": "markdown",
   "metadata": {},
   "source": [
    "## Part 1: Reading in the Yelp Reviews"
   ]
  },
  {
   "cell_type": "markdown",
   "metadata": {},
   "source": [
    "- \"corpus\" = collection of documents\n",
    "- \"corpora\" = plural form of corpus"
   ]
  },
  {
   "cell_type": "code",
   "execution_count": 5,
   "metadata": {},
   "outputs": [],
   "source": [
    "#import required packages\n",
    "#basics\n",
    "import pandas as pd \n",
    "import numpy as np\n",
    "\n",
    "#misc\n",
    "import gc\n",
    "import time\n",
    "import warnings\n",
    "\n",
    "#stats\n",
    "#from scipy.misc import imread\n",
    "from scipy import sparse\n",
    "import scipy.stats as ss\n",
    "\n",
    "#viz\n",
    "import matplotlib.pyplot as plt\n",
    "import matplotlib.gridspec as gridspec \n",
    "import seaborn as sns\n",
    "from wordcloud import WordCloud ,STOPWORDS\n",
    "from PIL import Image"
   ]
  },
  {
   "cell_type": "code",
   "execution_count": 6,
   "metadata": {},
   "outputs": [],
   "source": [
    "#nlp\n",
    "import string\n",
    "import re    #for regex\n",
    "import nltk"
   ]
  },
  {
   "cell_type": "code",
   "execution_count": 7,
   "metadata": {},
   "outputs": [],
   "source": [
    "from nltk.corpus import stopwords"
   ]
  },
  {
   "cell_type": "code",
   "execution_count": 8,
   "metadata": {},
   "outputs": [],
   "source": [
    "from nltk import pos_tag\n",
    "from nltk.stem.wordnet import WordNetLemmatizer \n",
    "from nltk.tokenize import word_tokenize\n"
   ]
  },
  {
   "cell_type": "code",
   "execution_count": 9,
   "metadata": {},
   "outputs": [],
   "source": [
    "# Tweet tokenizer does not split at apostophes which is what we want\n",
    "from nltk.tokenize import TweetTokenizer "
   ]
  },
  {
   "cell_type": "code",
   "execution_count": 11,
   "metadata": {},
   "outputs": [],
   "source": [
    "\n",
    "#FeatureEngineering\n",
    "from sklearn.feature_extraction.text import TfidfVectorizer, CountVectorizer, HashingVectorizer, TfidfTransformer\n",
    "from sklearn.decomposition import TruncatedSVD\n",
    "from sklearn.base import BaseEstimator, ClassifierMixin\n",
    "from sklearn.utils.validation import check_X_y, check_is_fitted\n",
    "from sklearn import model_selection, preprocessing, linear_model, naive_bayes, metrics, svm, decomposition, ensemble\n",
    "from sklearn.linear_model import LogisticRegression\n",
    "from sklearn.metrics import log_loss\n",
    "from sklearn.model_selection import StratifiedKFold\n",
    "from sklearn.model_selection import train_test_split\n",
    "\n",
    "import  textblob\n",
    "from textblob import TextBlob"
   ]
  },
  {
   "cell_type": "code",
   "execution_count": 15,
   "metadata": {},
   "outputs": [],
   "source": [
    "from nltk.stem import PorterStemmer\n",
    "import nltk\n",
    "\n",
    "from textblob import Word\n"
   ]
  },
  {
   "cell_type": "code",
   "execution_count": 79,
   "metadata": {},
   "outputs": [],
   "source": [
    "\n",
    "\n",
    "#settings\n",
    "start_time=time.time()\n",
    "color = sns.color_palette()\n",
    "# sns.set_style(\"dark\")\n",
    "eng_stopwords = set(stopwords.words(\"english\"))\n",
    "warnings.filterwarnings(\"ignore\")\n",
    "\n",
    "lem = WordNetLemmatizer()\n",
    "tokenizer=TweetTokenizer()\n",
    "\n",
    "# %matplotlib inline"
   ]
  },
  {
   "cell_type": "code",
   "execution_count": null,
   "metadata": {},
   "outputs": [],
   "source": [
    "# obj3ctive is to use tect to predict reatings "
   ]
  },
  {
   "cell_type": "code",
   "execution_count": 18,
   "metadata": {},
   "outputs": [],
   "source": [
    "# read yelp.csv into a DataFrame\n",
    "yelp = pd.read_csv('C:/Users/tejan/Desktop/Data Analystics/class work/python stats class 21 (Text Mining)/text_mning/Text Mining case study - Yelp Reveiws/reviews.csv')"
   ]
  },
  {
   "cell_type": "code",
   "execution_count": 20,
   "metadata": {},
   "outputs": [
    {
     "data": {
      "text/html": [
       "<div>\n",
       "<style scoped>\n",
       "    .dataframe tbody tr th:only-of-type {\n",
       "        vertical-align: middle;\n",
       "    }\n",
       "\n",
       "    .dataframe tbody tr th {\n",
       "        vertical-align: top;\n",
       "    }\n",
       "\n",
       "    .dataframe thead th {\n",
       "        text-align: right;\n",
       "    }\n",
       "</style>\n",
       "<table border=\"1\" class=\"dataframe\">\n",
       "  <thead>\n",
       "    <tr style=\"text-align: right;\">\n",
       "      <th></th>\n",
       "      <th>business_id</th>\n",
       "      <th>date</th>\n",
       "      <th>review_id</th>\n",
       "      <th>stars</th>\n",
       "      <th>text</th>\n",
       "      <th>type</th>\n",
       "      <th>user_id</th>\n",
       "      <th>cool</th>\n",
       "      <th>useful</th>\n",
       "      <th>funny</th>\n",
       "    </tr>\n",
       "  </thead>\n",
       "  <tbody>\n",
       "    <tr>\n",
       "      <th>0</th>\n",
       "      <td>9yKzy9PApeiPPOUJEtnvkg</td>\n",
       "      <td>2011-01-26</td>\n",
       "      <td>fWKvX83p0-ka4JS3dc6E5A</td>\n",
       "      <td>5</td>\n",
       "      <td>My wife took me here on my birthday for breakf...</td>\n",
       "      <td>review</td>\n",
       "      <td>rLtl8ZkDX5vH5nAx9C3q5Q</td>\n",
       "      <td>2</td>\n",
       "      <td>5</td>\n",
       "      <td>0</td>\n",
       "    </tr>\n",
       "    <tr>\n",
       "      <th>1</th>\n",
       "      <td>ZRJwVLyzEJq1VAihDhYiow</td>\n",
       "      <td>2011-07-27</td>\n",
       "      <td>IjZ33sJrzXqU-0X6U8NwyA</td>\n",
       "      <td>5</td>\n",
       "      <td>I have no idea why some people give bad review...</td>\n",
       "      <td>review</td>\n",
       "      <td>0a2KyEL0d3Yb1V6aivbIuQ</td>\n",
       "      <td>0</td>\n",
       "      <td>0</td>\n",
       "      <td>0</td>\n",
       "    </tr>\n",
       "    <tr>\n",
       "      <th>2</th>\n",
       "      <td>6oRAC4uyJCsJl1X0WZpVSA</td>\n",
       "      <td>2012-06-14</td>\n",
       "      <td>IESLBzqUCLdSzSqm0eCSxQ</td>\n",
       "      <td>4</td>\n",
       "      <td>love the gyro plate. Rice is so good and I als...</td>\n",
       "      <td>review</td>\n",
       "      <td>0hT2KtfLiobPvh6cDC8JQg</td>\n",
       "      <td>0</td>\n",
       "      <td>1</td>\n",
       "      <td>0</td>\n",
       "    </tr>\n",
       "    <tr>\n",
       "      <th>3</th>\n",
       "      <td>_1QQZuf4zZOyFCvXc0o6Vg</td>\n",
       "      <td>2010-05-27</td>\n",
       "      <td>G-WvGaISbqqaMHlNnByodA</td>\n",
       "      <td>5</td>\n",
       "      <td>Rosie, Dakota, and I LOVE Chaparral Dog Park!!...</td>\n",
       "      <td>review</td>\n",
       "      <td>uZetl9T0NcROGOyFfughhg</td>\n",
       "      <td>1</td>\n",
       "      <td>2</td>\n",
       "      <td>0</td>\n",
       "    </tr>\n",
       "    <tr>\n",
       "      <th>4</th>\n",
       "      <td>6ozycU1RpktNG2-1BroVtw</td>\n",
       "      <td>2012-01-05</td>\n",
       "      <td>1uJFq2r5QfJG_6ExMRCaGw</td>\n",
       "      <td>5</td>\n",
       "      <td>General Manager Scott Petello is a good egg!!!...</td>\n",
       "      <td>review</td>\n",
       "      <td>vYmM4KTsC8ZfQBg-j5MWkw</td>\n",
       "      <td>0</td>\n",
       "      <td>0</td>\n",
       "      <td>0</td>\n",
       "    </tr>\n",
       "  </tbody>\n",
       "</table>\n",
       "</div>"
      ],
      "text/plain": [
       "              business_id        date               review_id  stars  \\\n",
       "0  9yKzy9PApeiPPOUJEtnvkg  2011-01-26  fWKvX83p0-ka4JS3dc6E5A      5   \n",
       "1  ZRJwVLyzEJq1VAihDhYiow  2011-07-27  IjZ33sJrzXqU-0X6U8NwyA      5   \n",
       "2  6oRAC4uyJCsJl1X0WZpVSA  2012-06-14  IESLBzqUCLdSzSqm0eCSxQ      4   \n",
       "3  _1QQZuf4zZOyFCvXc0o6Vg  2010-05-27  G-WvGaISbqqaMHlNnByodA      5   \n",
       "4  6ozycU1RpktNG2-1BroVtw  2012-01-05  1uJFq2r5QfJG_6ExMRCaGw      5   \n",
       "\n",
       "                                                text    type  \\\n",
       "0  My wife took me here on my birthday for breakf...  review   \n",
       "1  I have no idea why some people give bad review...  review   \n",
       "2  love the gyro plate. Rice is so good and I als...  review   \n",
       "3  Rosie, Dakota, and I LOVE Chaparral Dog Park!!...  review   \n",
       "4  General Manager Scott Petello is a good egg!!!...  review   \n",
       "\n",
       "                  user_id  cool  useful  funny  \n",
       "0  rLtl8ZkDX5vH5nAx9C3q5Q     2       5      0  \n",
       "1  0a2KyEL0d3Yb1V6aivbIuQ     0       0      0  \n",
       "2  0hT2KtfLiobPvh6cDC8JQg     0       1      0  \n",
       "3  uZetl9T0NcROGOyFfughhg     1       2      0  \n",
       "4  vYmM4KTsC8ZfQBg-j5MWkw     0       0      0  "
      ]
     },
     "execution_count": 20,
     "metadata": {},
     "output_type": "execute_result"
    }
   ],
   "source": [
    "yelp.head(5)"
   ]
  },
  {
   "cell_type": "code",
   "execution_count": 21,
   "metadata": {},
   "outputs": [],
   "source": [
    "yelp=yelp[['review_id', 'stars', 'text', 'cool', 'useful', 'funny']]"
   ]
  },
  {
   "cell_type": "code",
   "execution_count": 22,
   "metadata": {},
   "outputs": [
    {
     "data": {
      "text/html": [
       "<div>\n",
       "<style scoped>\n",
       "    .dataframe tbody tr th:only-of-type {\n",
       "        vertical-align: middle;\n",
       "    }\n",
       "\n",
       "    .dataframe tbody tr th {\n",
       "        vertical-align: top;\n",
       "    }\n",
       "\n",
       "    .dataframe thead th {\n",
       "        text-align: right;\n",
       "    }\n",
       "</style>\n",
       "<table border=\"1\" class=\"dataframe\">\n",
       "  <thead>\n",
       "    <tr style=\"text-align: right;\">\n",
       "      <th></th>\n",
       "      <th>review_id</th>\n",
       "      <th>stars</th>\n",
       "      <th>text</th>\n",
       "      <th>cool</th>\n",
       "      <th>useful</th>\n",
       "      <th>funny</th>\n",
       "    </tr>\n",
       "  </thead>\n",
       "  <tbody>\n",
       "    <tr>\n",
       "      <th>0</th>\n",
       "      <td>fWKvX83p0-ka4JS3dc6E5A</td>\n",
       "      <td>5</td>\n",
       "      <td>My wife took me here on my birthday for breakf...</td>\n",
       "      <td>2</td>\n",
       "      <td>5</td>\n",
       "      <td>0</td>\n",
       "    </tr>\n",
       "    <tr>\n",
       "      <th>1</th>\n",
       "      <td>IjZ33sJrzXqU-0X6U8NwyA</td>\n",
       "      <td>5</td>\n",
       "      <td>I have no idea why some people give bad review...</td>\n",
       "      <td>0</td>\n",
       "      <td>0</td>\n",
       "      <td>0</td>\n",
       "    </tr>\n",
       "    <tr>\n",
       "      <th>2</th>\n",
       "      <td>IESLBzqUCLdSzSqm0eCSxQ</td>\n",
       "      <td>4</td>\n",
       "      <td>love the gyro plate. Rice is so good and I als...</td>\n",
       "      <td>0</td>\n",
       "      <td>1</td>\n",
       "      <td>0</td>\n",
       "    </tr>\n",
       "    <tr>\n",
       "      <th>3</th>\n",
       "      <td>G-WvGaISbqqaMHlNnByodA</td>\n",
       "      <td>5</td>\n",
       "      <td>Rosie, Dakota, and I LOVE Chaparral Dog Park!!...</td>\n",
       "      <td>1</td>\n",
       "      <td>2</td>\n",
       "      <td>0</td>\n",
       "    </tr>\n",
       "    <tr>\n",
       "      <th>4</th>\n",
       "      <td>1uJFq2r5QfJG_6ExMRCaGw</td>\n",
       "      <td>5</td>\n",
       "      <td>General Manager Scott Petello is a good egg!!!...</td>\n",
       "      <td>0</td>\n",
       "      <td>0</td>\n",
       "      <td>0</td>\n",
       "    </tr>\n",
       "  </tbody>\n",
       "</table>\n",
       "</div>"
      ],
      "text/plain": [
       "                review_id  stars  \\\n",
       "0  fWKvX83p0-ka4JS3dc6E5A      5   \n",
       "1  IjZ33sJrzXqU-0X6U8NwyA      5   \n",
       "2  IESLBzqUCLdSzSqm0eCSxQ      4   \n",
       "3  G-WvGaISbqqaMHlNnByodA      5   \n",
       "4  1uJFq2r5QfJG_6ExMRCaGw      5   \n",
       "\n",
       "                                                text  cool  useful  funny  \n",
       "0  My wife took me here on my birthday for breakf...     2       5      0  \n",
       "1  I have no idea why some people give bad review...     0       0      0  \n",
       "2  love the gyro plate. Rice is so good and I als...     0       1      0  \n",
       "3  Rosie, Dakota, and I LOVE Chaparral Dog Park!!...     1       2      0  \n",
       "4  General Manager Scott Petello is a good egg!!!...     0       0      0  "
      ]
     },
     "execution_count": 22,
     "metadata": {},
     "output_type": "execute_result"
    }
   ],
   "source": [
    "yelp.head()"
   ]
  },
  {
   "cell_type": "code",
   "execution_count": 23,
   "metadata": {},
   "outputs": [],
   "source": [
    "df = yelp"
   ]
  },
  {
   "cell_type": "markdown",
   "metadata": {},
   "source": [
    "### Basic Exploratory Analysis"
   ]
  },
  {
   "cell_type": "markdown",
   "metadata": {},
   "source": [
    "#### Note: It may take some time to process the function if the data is huge"
   ]
  },
  {
   "cell_type": "code",
   "execution_count": 70,
   "metadata": {},
   "outputs": [],
   "source": [
    "df['text'] = df['text'].astype(str)\n",
    "df['count_sent']=df[\"text\"].apply(lambda x: len(re.findall(\"\\n\",str(x)))+1)\n",
    "\n",
    "#Word count in each comment:\n",
    "df['count_word']=df[\"text\"].apply(lambda x: len(str(x).split()))\n",
    "\n",
    "#Unique word count\n",
    "df['count_unique_word']=df[\"text\"].apply(lambda x: len(set(str(x).split())))\n",
    "\n",
    "#Letter count\n",
    "df['count_letters']=df[\"text\"].apply(lambda x: len(str(x)))\n",
    "\n",
    "#Word density\n",
    "\n",
    "df['word_density'] = df['count_letters'] / (df['count_word']+1)"
   ]
  },
  {
   "cell_type": "code",
   "execution_count": 71,
   "metadata": {},
   "outputs": [
    {
     "data": {
      "text/html": [
       "<div>\n",
       "<style scoped>\n",
       "    .dataframe tbody tr th:only-of-type {\n",
       "        vertical-align: middle;\n",
       "    }\n",
       "\n",
       "    .dataframe tbody tr th {\n",
       "        vertical-align: top;\n",
       "    }\n",
       "\n",
       "    .dataframe thead th {\n",
       "        text-align: right;\n",
       "    }\n",
       "</style>\n",
       "<table border=\"1\" class=\"dataframe\">\n",
       "  <thead>\n",
       "    <tr style=\"text-align: right;\">\n",
       "      <th></th>\n",
       "      <th>review_id</th>\n",
       "      <th>stars</th>\n",
       "      <th>text</th>\n",
       "      <th>cool</th>\n",
       "      <th>useful</th>\n",
       "      <th>funny</th>\n",
       "      <th>count_sent</th>\n",
       "      <th>count_word</th>\n",
       "      <th>count_unique_word</th>\n",
       "      <th>count_letters</th>\n",
       "      <th>word_density</th>\n",
       "    </tr>\n",
       "  </thead>\n",
       "  <tbody>\n",
       "    <tr>\n",
       "      <th>0</th>\n",
       "      <td>fWKvX83p0-ka4JS3dc6E5A</td>\n",
       "      <td>5</td>\n",
       "      <td>My wife took me here on my birthday for breakf...</td>\n",
       "      <td>2</td>\n",
       "      <td>5</td>\n",
       "      <td>0</td>\n",
       "      <td>7</td>\n",
       "      <td>155</td>\n",
       "      <td>110</td>\n",
       "      <td>889</td>\n",
       "      <td>5.698718</td>\n",
       "    </tr>\n",
       "    <tr>\n",
       "      <th>1</th>\n",
       "      <td>IjZ33sJrzXqU-0X6U8NwyA</td>\n",
       "      <td>5</td>\n",
       "      <td>I have no idea why some people give bad review...</td>\n",
       "      <td>0</td>\n",
       "      <td>0</td>\n",
       "      <td>0</td>\n",
       "      <td>5</td>\n",
       "      <td>257</td>\n",
       "      <td>159</td>\n",
       "      <td>1345</td>\n",
       "      <td>5.213178</td>\n",
       "    </tr>\n",
       "    <tr>\n",
       "      <th>2</th>\n",
       "      <td>IESLBzqUCLdSzSqm0eCSxQ</td>\n",
       "      <td>4</td>\n",
       "      <td>love the gyro plate. Rice is so good and I als...</td>\n",
       "      <td>0</td>\n",
       "      <td>1</td>\n",
       "      <td>0</td>\n",
       "      <td>1</td>\n",
       "      <td>16</td>\n",
       "      <td>16</td>\n",
       "      <td>76</td>\n",
       "      <td>4.470588</td>\n",
       "    </tr>\n",
       "    <tr>\n",
       "      <th>3</th>\n",
       "      <td>G-WvGaISbqqaMHlNnByodA</td>\n",
       "      <td>5</td>\n",
       "      <td>Rosie, Dakota, and I LOVE Chaparral Dog Park!!...</td>\n",
       "      <td>1</td>\n",
       "      <td>2</td>\n",
       "      <td>0</td>\n",
       "      <td>5</td>\n",
       "      <td>76</td>\n",
       "      <td>61</td>\n",
       "      <td>419</td>\n",
       "      <td>5.441558</td>\n",
       "    </tr>\n",
       "    <tr>\n",
       "      <th>4</th>\n",
       "      <td>1uJFq2r5QfJG_6ExMRCaGw</td>\n",
       "      <td>5</td>\n",
       "      <td>General Manager Scott Petello is a good egg!!!...</td>\n",
       "      <td>0</td>\n",
       "      <td>0</td>\n",
       "      <td>0</td>\n",
       "      <td>3</td>\n",
       "      <td>86</td>\n",
       "      <td>72</td>\n",
       "      <td>469</td>\n",
       "      <td>5.390805</td>\n",
       "    </tr>\n",
       "  </tbody>\n",
       "</table>\n",
       "</div>"
      ],
      "text/plain": [
       "                review_id  stars  \\\n",
       "0  fWKvX83p0-ka4JS3dc6E5A      5   \n",
       "1  IjZ33sJrzXqU-0X6U8NwyA      5   \n",
       "2  IESLBzqUCLdSzSqm0eCSxQ      4   \n",
       "3  G-WvGaISbqqaMHlNnByodA      5   \n",
       "4  1uJFq2r5QfJG_6ExMRCaGw      5   \n",
       "\n",
       "                                                text  cool  useful  funny  \\\n",
       "0  My wife took me here on my birthday for breakf...     2       5      0   \n",
       "1  I have no idea why some people give bad review...     0       0      0   \n",
       "2  love the gyro plate. Rice is so good and I als...     0       1      0   \n",
       "3  Rosie, Dakota, and I LOVE Chaparral Dog Park!!...     1       2      0   \n",
       "4  General Manager Scott Petello is a good egg!!!...     0       0      0   \n",
       "\n",
       "   count_sent  count_word  count_unique_word  count_letters  word_density  \n",
       "0           7         155                110            889      5.698718  \n",
       "1           5         257                159           1345      5.213178  \n",
       "2           1          16                 16             76      4.470588  \n",
       "3           5          76                 61            419      5.441558  \n",
       "4           3          86                 72            469      5.390805  "
      ]
     },
     "execution_count": 71,
     "metadata": {},
     "output_type": "execute_result"
    }
   ],
   "source": [
    "df.head()"
   ]
  },
  {
   "cell_type": "code",
   "execution_count": 37,
   "metadata": {},
   "outputs": [
    {
     "data": {
      "text/plain": [
       "10000"
      ]
     },
     "execution_count": 37,
     "metadata": {},
     "output_type": "execute_result"
    }
   ],
   "source": [
    "df.text.count()"
   ]
  },
  {
   "cell_type": "code",
   "execution_count": null,
   "metadata": {},
   "outputs": [],
   "source": [
    "#Word count in each comment:\n",
    "df['count_word']=df[\"text\"].apply(lambda x: len(str(x).split()))"
   ]
  },
  {
   "cell_type": "code",
   "execution_count": null,
   "metadata": {},
   "outputs": [],
   "source": [
    "#punctuation count\n",
    "df[\"count_punctuations\"] =df[\"text\"].apply(lambda x: len([c for c in str(x) if c in string.punctuation]))"
   ]
  },
  {
   "cell_type": "code",
   "execution_count": 63,
   "metadata": {},
   "outputs": [],
   "source": [
    "df[\"text\"].apply(lambda x: len())"
   ]
  },
  {
   "cell_type": "code",
   "execution_count": null,
   "metadata": {},
   "outputs": [],
   "source": []
  },
  {
   "cell_type": "code",
   "execution_count": null,
   "metadata": {},
   "outputs": [],
   "source": []
  },
  {
   "cell_type": "code",
   "execution_count": 80,
   "metadata": {},
   "outputs": [],
   "source": [
    "df['text'] = df['text'].astype(str)\n",
    "df['count_sent']=df[\"text\"].apply(lambda x: len(re.findall(\"\\n\",str(x)))+1)\n",
    "\n",
    "#Word count in each comment:\n",
    "df['count_word']=df[\"text\"].apply(lambda x: len(str(x).split()))\n",
    "\n",
    "#Unique word count\n",
    "df['count_unique_word']=df[\"text\"].apply(lambda x: len(set(str(x).split())))\n",
    "\n",
    "#Letter count\n",
    "df['count_letters']=df[\"text\"].apply(lambda x: len(str(x)))\n",
    "\n",
    "#Word density\n",
    "df['word_density'] = df['count_letters'] / (df['count_word']+1)\n",
    "\n",
    "#punctuation count\n",
    "df[\"count_punctuations\"] =df[\"text\"].apply(lambda x: len([c for c in str(x) if c in string.punctuation]))\n",
    "\n",
    "#upper case words count\n",
    "df[\"count_words_upper\"] = df[\"text\"].apply(lambda x: len([w for w in str(x).split() if w.isupper()]))\n",
    "\n",
    "#upper case words count\n",
    "df[\"count_words_lower\"] = df[\"text\"].apply(lambda x: len([w for w in str(x).split() if w.islower()]))\n",
    "\n",
    "#title case words count\n",
    "df[\"count_words_title\"] = df[\"text\"].apply(lambda x: len([w for w in str(x).split() if w.istitle()]))\n",
    "\n",
    "Number of stopwords\n",
    "df[\"count_stopwords\"] = df[\"text\"].apply(lambda x: len([w for w in str(x).lower().split() if w in eng_stopwords]))\n",
    "\n",
    "#Average length of the words\n",
    "df[\"mean_word_len\"] = df[\"text\"].apply(lambda x: np.mean([len(w) for w in str(x).split()]))\n",
    "\n",
    "#Number of numeric\n",
    "df['numeric'] = df['text'].apply(lambda x :len([x for x in x.split() if x.isdigit()]))\n",
    "\n",
    "#Number of alphanumeric\n",
    "df['alphanumeric'] = df['text'].apply(lambda x :len([x for x in x.split() if x.isalnum()]))\n",
    "\n",
    "#Number of alphabetics\n",
    "df['alphabetetics'] = df['text'].apply(lambda x :len([x for x in x.split() if x.isalpha()]))\n",
    "\n",
    "#Number of alphabetics\n",
    "df['Spaces'] = df['text'].apply(lambda x :len([x for x in x.split() if x.isspace()]))\n",
    "\n",
    "#Number of Words ends with\n",
    "df['words_ends_with_et'] = df['text'].apply(lambda x :len([x for x in x.lower().split() if x.endswith('et')]))\n",
    "\n",
    "#Number of Words ends with\n",
    "df['words_start_with_no'] = df['text'].apply(lambda x :len([x for x in x.lower().split() if x.startswith('no')]))\n",
    "\n",
    "# Count the occurences of all words\n",
    "df['wordcounts'] = df['text'].apply(lambda x :dict([ [t, x.split().count(t)] for t in set(x.split()) ]))\n",
    "\n",
    "pos_family = {\n",
    "    'noun' : ['NN','NNS','NNP','NNPS'],\n",
    "    'pron' : ['PRP','PRP$','WP','WP$'],\n",
    "    'verb' : ['VB','VBD','VBG','VBN','VBP','VBZ'],\n",
    "    'adj' :  ['JJ','JJR','JJS'],\n",
    "    'adv' : ['RB','RBR','RBS','WRB']\n",
    "}\n",
    "\n",
    "# function to check and get the part of speech tag count of a words in a given sentence\n",
    "def check_pos_tag(x, flag):\n",
    "    cnt = 0\n",
    "    try:\n",
    "        wiki = textblob.TextBlob(x)\n",
    "        for tup in wiki.tags:\n",
    "            ppo = list(tup)[1]\n",
    "            if ppo in pos_family[flag]:\n",
    "                cnt += 1\n",
    "    except:\n",
    "        pass\n",
    "    return cnt\n",
    "\n",
    "df['noun_count'] = df['text'].apply(lambda x: check_pos_tag(x, 'noun'))\n",
    "df['verb_count'] = df['text'].apply(lambda x: check_pos_tag(x, 'verb'))\n",
    "df['adj_count']  = df['text'].apply(lambda x: check_pos_tag(x, 'adj'))\n",
    "df['adv_count']  = df['text'].apply(lambda x: check_pos_tag(x, 'adv'))\n",
    "df['pron_count'] = df['text'].apply(lambda x: check_pos_tag(x, 'pron')) "
   ]
  },
  {
   "cell_type": "markdown",
   "metadata": {},
   "source": [
    "### Calculating Sentiment analysis using Textblob module"
   ]
  },
  {
   "cell_type": "code",
   "execution_count": 12,
   "metadata": {},
   "outputs": [],
   "source": [
    "df['sentiment'] = df[\"text\"].apply(lambda x: TextBlob(x).sentiment.polarity )"
   ]
  },
  {
   "cell_type": "code",
   "execution_count": 132,
   "metadata": {},
   "outputs": [
    {
     "data": {
      "text/plain": [
       "Sentiment(polarity=0.40246913580246907, subjectivity=0.6591122868900646)"
      ]
     },
     "execution_count": 132,
     "metadata": {},
     "output_type": "execute_result"
    }
   ],
   "source": [
    "TextBlob(yelp.text[0]).sentiment"
   ]
  },
  {
   "cell_type": "code",
   "execution_count": 115,
   "metadata": {},
   "outputs": [
    {
     "data": {
      "text/plain": [
       "4    3526\n",
       "5    3337\n",
       "3    1461\n",
       "2     927\n",
       "1     749\n",
       "Name: stars, dtype: int64"
      ]
     },
     "execution_count": 115,
     "metadata": {},
     "output_type": "execute_result"
    }
   ],
   "source": [
    "yelp.stars.value_counts()"
   ]
  },
  {
   "cell_type": "markdown",
   "metadata": {},
   "source": [
    "### Split the data into train & Test"
   ]
  },
  {
   "cell_type": "code",
   "execution_count": 81,
   "metadata": {},
   "outputs": [
    {
     "name": "stdout",
     "output_type": "stream",
     "text": [
      "(7500,)\n",
      "(2500,)\n",
      "(7500,)\n",
      "(2500,)\n"
     ]
    }
   ],
   "source": [
    "# create a new DataFrame that only contains the 5-star and 1-star reviews\n",
    "#yelp_best_worst = yelp[(yelp.stars==5) | (yelp.stars==1)]\n",
    "\n",
    "# define X and y\n",
    "X = yelp.text\n",
    "y = yelp.stars\n",
    "\n",
    "# split the new DataFrame into training and testing sets\n",
    "X_train, X_test, y_train, y_test = train_test_split(X, y, random_state=1)\n",
    "print(X_train.shape)\n",
    "print(X_test.shape)\n",
    "print(y_train.shape)\n",
    "print(y_test.shape)"
   ]
  },
  {
   "cell_type": "code",
   "execution_count": 82,
   "metadata": {},
   "outputs": [
    {
     "data": {
      "text/plain": [
       "(10000, 28)"
      ]
     },
     "execution_count": 82,
     "metadata": {},
     "output_type": "execute_result"
    }
   ],
   "source": [
    "yelp.shape"
   ]
  },
  {
   "cell_type": "markdown",
   "metadata": {},
   "source": [
    "### Creating user defined functions for clean the text and pre-process the data"
   ]
  },
  {
   "cell_type": "code",
   "execution_count": 84,
   "metadata": {},
   "outputs": [],
   "source": [
    "#Abbrevations and Words correction\n",
    "def clean_text(text):\n",
    "    text = text.lower()\n",
    "    text = text.strip()\n",
    "    text = re.sub(r' +', ' ', text)\n",
    "    text = re.sub(r\"[-()\\\"#/@;:{}`+=~|.!?,'0-9]\", \"\", text)\n",
    "    return(text)"
   ]
  },
  {
   "cell_type": "code",
   "execution_count": 120,
   "metadata": {},
   "outputs": [],
   "source": [
    "# import nltk\n",
    "# nltk.download('stopwords')"
   ]
  },
  {
   "cell_type": "code",
   "execution_count": 89,
   "metadata": {},
   "outputs": [],
   "source": [
    "stop = set(nltk.corpus.stopwords.words('english'))"
   ]
  },
  {
   "cell_type": "code",
   "execution_count": 92,
   "metadata": {},
   "outputs": [],
   "source": [
    "import string\n",
    "def pre_process(text):\n",
    "    #text = text.str.replace('/','')                           #Replacing the / with none\n",
    "    #text = text.apply(lambda x: re.sub(\"  \",\" \", x))          #Replacing double space with single space\n",
    "    #text = re.sub(r\"[-()\\\"#/@;:{}`+=~|.!?,']\", \"\", text)      #Replacing special character with none\n",
    "    #text = re.sub(r'[0-9]+', '', text)                        #Replacing numbers with none\n",
    "    #text = text.apply(lambda x: \" \".join(x.translate(str.maketrans('', '', string.punctuation)) for x in x.split() if x.isalpha()))\n",
    "    text = text.apply(lambda x: \" \".join(x for x in x.split() if x not in stop)) #Removing stop words\n",
    "    #text = text.apply(lambda x: str(TextBlob(x).correct()))                      #Correct spelling corrections\n",
    "    #text = text.apply(lambda x: \" \".join(PorterStemmer().stem(word) for word in x.split())) #Stemming using porter stemmer\n",
    "    #text = text.apply(lambda x: \" \".join(stemmer_func(word) for word in x.split()))        #Stemming\n",
    "    #text = text.apply(lambda x: \" \".join([Word(word).lemmatize() for word in x.split()]))   #lemmatization\n",
    "    text = text.apply(lambda x: \" \".join(word for word, pos in pos_tag(x.split()) if pos not in ['NN','NNS','NNP','NNPS'])) #Removing nouns etc\n",
    "    return(text)"
   ]
  },
  {
   "cell_type": "code",
   "execution_count": 93,
   "metadata": {},
   "outputs": [],
   "source": [
    "X_train = X_train.apply(lambda x: clean_text(x))\n",
    "X_test = X_test.apply(lambda x: clean_text(x))"
   ]
  },
  {
   "cell_type": "code",
   "execution_count": 94,
   "metadata": {},
   "outputs": [],
   "source": [
    "X_train=pre_process(X_train)\n",
    "X_test=pre_process(X_test)"
   ]
  },
  {
   "cell_type": "markdown",
   "metadata": {
    "collapsed": true
   },
   "source": [
    "### Vectorization (Count, Tfidf, Hashing)\n",
    "        - Charter level\n",
    "        - Word level\n",
    "        - n-grams"
   ]
  },
  {
   "cell_type": "code",
   "execution_count": 19,
   "metadata": {},
   "outputs": [],
   "source": [
    "CountVectorizer?"
   ]
  },
  {
   "cell_type": "code",
   "execution_count": 99,
   "metadata": {},
   "outputs": [],
   "source": [
    "#Train\n",
    "count_vect = CountVectorizer(analyzer='word', token_pattern=r'\\w{1,}', \n",
    "                             ngram_range=(1, 1 ), \n",
    "                             min_df=5, \n",
    "                             encoding='latin-1' ,\n",
    "                             max_features=800)\n",
    "xtrain_count = count_vect.fit_transform(X_train)\n"
   ]
  },
  {
   "cell_type": "code",
   "execution_count": 100,
   "metadata": {},
   "outputs": [
    {
     "data": {
      "text/plain": [
       "<7500x800 sparse matrix of type '<class 'numpy.int64'>'\n",
       "\twith 262248 stored elements in Compressed Sparse Row format>"
      ]
     },
     "execution_count": 100,
     "metadata": {},
     "output_type": "execute_result"
    }
   ],
   "source": [
    "xtrain_count"
   ]
  },
  {
   "cell_type": "markdown",
   "metadata": {},
   "source": [
    "### View the document term metrics"
   ]
  },
  {
   "cell_type": "code",
   "execution_count": 101,
   "metadata": {},
   "outputs": [],
   "source": [
    "dtm=xtrain_count.toarray()"
   ]
  },
  {
   "cell_type": "code",
   "execution_count": 102,
   "metadata": {},
   "outputs": [
    {
     "data": {
      "text/plain": [
       "array([[0, 0, 0, ..., 0, 0, 0],\n",
       "       [0, 0, 0, ..., 0, 0, 0],\n",
       "       [0, 2, 0, ..., 0, 0, 0],\n",
       "       ...,\n",
       "       [0, 0, 0, ..., 0, 0, 0],\n",
       "       [0, 0, 0, ..., 0, 0, 0],\n",
       "       [0, 0, 0, ..., 0, 0, 0]], dtype=int64)"
      ]
     },
     "execution_count": 102,
     "metadata": {},
     "output_type": "execute_result"
    }
   ],
   "source": [
    "dtm"
   ]
  },
  {
   "cell_type": "code",
   "execution_count": 138,
   "metadata": {},
   "outputs": [],
   "source": [
    "count_vect.get_feature_names()"
   ]
  },
  {
   "cell_type": "code",
   "execution_count": 104,
   "metadata": {},
   "outputs": [],
   "source": [
    "dtm1=pd.DataFrame(dtm)"
   ]
  },
  {
   "cell_type": "code",
   "execution_count": 105,
   "metadata": {},
   "outputs": [],
   "source": [
    "dtm1.columns=count_vect.get_feature_names()"
   ]
  },
  {
   "cell_type": "code",
   "execution_count": 109,
   "metadata": {},
   "outputs": [
    {
     "data": {
      "text/html": [
       "<div>\n",
       "<style scoped>\n",
       "    .dataframe tbody tr th:only-of-type {\n",
       "        vertical-align: middle;\n",
       "    }\n",
       "\n",
       "    .dataframe tbody tr th {\n",
       "        vertical-align: top;\n",
       "    }\n",
       "\n",
       "    .dataframe thead th {\n",
       "        text-align: right;\n",
       "    }\n",
       "</style>\n",
       "<table border=\"1\" class=\"dataframe\">\n",
       "  <thead>\n",
       "    <tr style=\"text-align: right;\">\n",
       "      <th></th>\n",
       "      <th>able</th>\n",
       "      <th>absolutely</th>\n",
       "      <th>across</th>\n",
       "      <th>actually</th>\n",
       "      <th>add</th>\n",
       "      <th>added</th>\n",
       "      <th>afternoon</th>\n",
       "      <th>ago</th>\n",
       "      <th>almost</th>\n",
       "      <th>along</th>\n",
       "      <th>...</th>\n",
       "      <th>year</th>\n",
       "      <th>years</th>\n",
       "      <th>yelp</th>\n",
       "      <th>yes</th>\n",
       "      <th>yet</th>\n",
       "      <th>youll</th>\n",
       "      <th>youre</th>\n",
       "      <th>youve</th>\n",
       "      <th>yum</th>\n",
       "      <th>yummy</th>\n",
       "    </tr>\n",
       "  </thead>\n",
       "  <tbody>\n",
       "    <tr>\n",
       "      <th>0</th>\n",
       "      <td>0</td>\n",
       "      <td>0</td>\n",
       "      <td>0</td>\n",
       "      <td>0</td>\n",
       "      <td>0</td>\n",
       "      <td>0</td>\n",
       "      <td>0</td>\n",
       "      <td>0</td>\n",
       "      <td>0</td>\n",
       "      <td>0</td>\n",
       "      <td>...</td>\n",
       "      <td>0</td>\n",
       "      <td>0</td>\n",
       "      <td>0</td>\n",
       "      <td>0</td>\n",
       "      <td>0</td>\n",
       "      <td>0</td>\n",
       "      <td>0</td>\n",
       "      <td>0</td>\n",
       "      <td>0</td>\n",
       "      <td>0</td>\n",
       "    </tr>\n",
       "    <tr>\n",
       "      <th>1</th>\n",
       "      <td>0</td>\n",
       "      <td>0</td>\n",
       "      <td>0</td>\n",
       "      <td>0</td>\n",
       "      <td>0</td>\n",
       "      <td>0</td>\n",
       "      <td>0</td>\n",
       "      <td>0</td>\n",
       "      <td>0</td>\n",
       "      <td>0</td>\n",
       "      <td>...</td>\n",
       "      <td>0</td>\n",
       "      <td>0</td>\n",
       "      <td>0</td>\n",
       "      <td>0</td>\n",
       "      <td>0</td>\n",
       "      <td>0</td>\n",
       "      <td>0</td>\n",
       "      <td>0</td>\n",
       "      <td>0</td>\n",
       "      <td>0</td>\n",
       "    </tr>\n",
       "    <tr>\n",
       "      <th>2</th>\n",
       "      <td>0</td>\n",
       "      <td>2</td>\n",
       "      <td>0</td>\n",
       "      <td>1</td>\n",
       "      <td>0</td>\n",
       "      <td>0</td>\n",
       "      <td>0</td>\n",
       "      <td>0</td>\n",
       "      <td>0</td>\n",
       "      <td>0</td>\n",
       "      <td>...</td>\n",
       "      <td>0</td>\n",
       "      <td>0</td>\n",
       "      <td>0</td>\n",
       "      <td>0</td>\n",
       "      <td>0</td>\n",
       "      <td>0</td>\n",
       "      <td>0</td>\n",
       "      <td>0</td>\n",
       "      <td>0</td>\n",
       "      <td>0</td>\n",
       "    </tr>\n",
       "    <tr>\n",
       "      <th>3</th>\n",
       "      <td>0</td>\n",
       "      <td>1</td>\n",
       "      <td>0</td>\n",
       "      <td>0</td>\n",
       "      <td>0</td>\n",
       "      <td>0</td>\n",
       "      <td>0</td>\n",
       "      <td>0</td>\n",
       "      <td>0</td>\n",
       "      <td>0</td>\n",
       "      <td>...</td>\n",
       "      <td>0</td>\n",
       "      <td>0</td>\n",
       "      <td>0</td>\n",
       "      <td>1</td>\n",
       "      <td>0</td>\n",
       "      <td>0</td>\n",
       "      <td>0</td>\n",
       "      <td>0</td>\n",
       "      <td>0</td>\n",
       "      <td>0</td>\n",
       "    </tr>\n",
       "    <tr>\n",
       "      <th>4</th>\n",
       "      <td>0</td>\n",
       "      <td>0</td>\n",
       "      <td>0</td>\n",
       "      <td>0</td>\n",
       "      <td>1</td>\n",
       "      <td>0</td>\n",
       "      <td>0</td>\n",
       "      <td>0</td>\n",
       "      <td>0</td>\n",
       "      <td>1</td>\n",
       "      <td>...</td>\n",
       "      <td>0</td>\n",
       "      <td>0</td>\n",
       "      <td>0</td>\n",
       "      <td>0</td>\n",
       "      <td>1</td>\n",
       "      <td>0</td>\n",
       "      <td>0</td>\n",
       "      <td>0</td>\n",
       "      <td>0</td>\n",
       "      <td>0</td>\n",
       "    </tr>\n",
       "  </tbody>\n",
       "</table>\n",
       "<p>5 rows × 800 columns</p>\n",
       "</div>"
      ],
      "text/plain": [
       "   able  absolutely  across  actually  add  added  afternoon  ago  almost  \\\n",
       "0     0           0       0         0    0      0          0    0       0   \n",
       "1     0           0       0         0    0      0          0    0       0   \n",
       "2     0           2       0         1    0      0          0    0       0   \n",
       "3     0           1       0         0    0      0          0    0       0   \n",
       "4     0           0       0         0    1      0          0    0       0   \n",
       "\n",
       "   along  ...  year  years  yelp  yes  yet  youll  youre  youve  yum  yummy  \n",
       "0      0  ...     0      0     0    0    0      0      0      0    0      0  \n",
       "1      0  ...     0      0     0    0    0      0      0      0    0      0  \n",
       "2      0  ...     0      0     0    0    0      0      0      0    0      0  \n",
       "3      0  ...     0      0     0    1    0      0      0      0    0      0  \n",
       "4      1  ...     0      0     0    0    1      0      0      0    0      0  \n",
       "\n",
       "[5 rows x 800 columns]"
      ]
     },
     "execution_count": 109,
     "metadata": {},
     "output_type": "execute_result"
    }
   ],
   "source": [
    "dtm1.head()"
   ]
  },
  {
   "cell_type": "markdown",
   "metadata": {},
   "source": [
    "### Vectorization (count, tfidf) for both train & test"
   ]
  },
  {
   "cell_type": "code",
   "execution_count": 110,
   "metadata": {},
   "outputs": [],
   "source": [
    "#Train\n",
    "count_vect = CountVectorizer(analyzer='word', \n",
    "                             token_pattern=r'\\w{1,}', \n",
    "                             ngram_range=(1, 1 ), \n",
    "                             min_df=5, \n",
    "                             encoding='latin-1' , \n",
    "                             max_features=800)\n",
    "xtrain_count = count_vect.fit_transform(X_train)\n",
    "\n",
    "tfidf_transformer = TfidfTransformer()\n",
    "X_train_tfidf = tfidf_transformer.fit_transform(xtrain_count)\n",
    "\n",
    "#Test\n",
    "#count_vect = CountVectorizer()\n",
    "xtest_count = count_vect.transform(X_test)\n",
    "\n",
    "#tfidf_transformer = TfidfTransformer()\n",
    "X_test_tfidf = tfidf_transformer.transform(xtest_count)\n"
   ]
  },
  {
   "cell_type": "code",
   "execution_count": 111,
   "metadata": {},
   "outputs": [],
   "source": [
    "dtm2=pd.DataFrame(X_train_tfidf.toarray(), columns=count_vect.get_feature_names())"
   ]
  },
  {
   "cell_type": "code",
   "execution_count": 114,
   "metadata": {},
   "outputs": [
    {
     "data": {
      "text/html": [
       "<div>\n",
       "<style scoped>\n",
       "    .dataframe tbody tr th:only-of-type {\n",
       "        vertical-align: middle;\n",
       "    }\n",
       "\n",
       "    .dataframe tbody tr th {\n",
       "        vertical-align: top;\n",
       "    }\n",
       "\n",
       "    .dataframe thead th {\n",
       "        text-align: right;\n",
       "    }\n",
       "</style>\n",
       "<table border=\"1\" class=\"dataframe\">\n",
       "  <thead>\n",
       "    <tr style=\"text-align: right;\">\n",
       "      <th></th>\n",
       "      <th>able</th>\n",
       "      <th>absolutely</th>\n",
       "      <th>across</th>\n",
       "      <th>actually</th>\n",
       "      <th>add</th>\n",
       "      <th>added</th>\n",
       "      <th>afternoon</th>\n",
       "      <th>ago</th>\n",
       "      <th>almost</th>\n",
       "      <th>along</th>\n",
       "      <th>...</th>\n",
       "      <th>year</th>\n",
       "      <th>years</th>\n",
       "      <th>yelp</th>\n",
       "      <th>yes</th>\n",
       "      <th>yet</th>\n",
       "      <th>youll</th>\n",
       "      <th>youre</th>\n",
       "      <th>youve</th>\n",
       "      <th>yum</th>\n",
       "      <th>yummy</th>\n",
       "    </tr>\n",
       "  </thead>\n",
       "  <tbody>\n",
       "    <tr>\n",
       "      <th>0</th>\n",
       "      <td>0.0</td>\n",
       "      <td>0.0</td>\n",
       "      <td>0.0</td>\n",
       "      <td>0.0</td>\n",
       "      <td>0.0</td>\n",
       "      <td>0.0</td>\n",
       "      <td>0.0</td>\n",
       "      <td>0.0</td>\n",
       "      <td>0.0</td>\n",
       "      <td>0.0</td>\n",
       "      <td>...</td>\n",
       "      <td>0.0</td>\n",
       "      <td>0.0</td>\n",
       "      <td>0.0</td>\n",
       "      <td>0.0</td>\n",
       "      <td>0.0</td>\n",
       "      <td>0.0</td>\n",
       "      <td>0.0</td>\n",
       "      <td>0.0</td>\n",
       "      <td>0.0</td>\n",
       "      <td>0.0</td>\n",
       "    </tr>\n",
       "    <tr>\n",
       "      <th>1</th>\n",
       "      <td>0.0</td>\n",
       "      <td>0.0</td>\n",
       "      <td>0.0</td>\n",
       "      <td>0.0</td>\n",
       "      <td>0.0</td>\n",
       "      <td>0.0</td>\n",
       "      <td>0.0</td>\n",
       "      <td>0.0</td>\n",
       "      <td>0.0</td>\n",
       "      <td>0.0</td>\n",
       "      <td>...</td>\n",
       "      <td>0.0</td>\n",
       "      <td>0.0</td>\n",
       "      <td>0.0</td>\n",
       "      <td>0.0</td>\n",
       "      <td>0.0</td>\n",
       "      <td>0.0</td>\n",
       "      <td>0.0</td>\n",
       "      <td>0.0</td>\n",
       "      <td>0.0</td>\n",
       "      <td>0.0</td>\n",
       "    </tr>\n",
       "    <tr>\n",
       "      <th>2</th>\n",
       "      <td>0.0</td>\n",
       "      <td>0.2</td>\n",
       "      <td>0.0</td>\n",
       "      <td>0.1</td>\n",
       "      <td>0.0</td>\n",
       "      <td>0.0</td>\n",
       "      <td>0.0</td>\n",
       "      <td>0.0</td>\n",
       "      <td>0.0</td>\n",
       "      <td>0.0</td>\n",
       "      <td>...</td>\n",
       "      <td>0.0</td>\n",
       "      <td>0.0</td>\n",
       "      <td>0.0</td>\n",
       "      <td>0.0</td>\n",
       "      <td>0.0</td>\n",
       "      <td>0.0</td>\n",
       "      <td>0.0</td>\n",
       "      <td>0.0</td>\n",
       "      <td>0.0</td>\n",
       "      <td>0.0</td>\n",
       "    </tr>\n",
       "    <tr>\n",
       "      <th>3</th>\n",
       "      <td>0.0</td>\n",
       "      <td>0.3</td>\n",
       "      <td>0.0</td>\n",
       "      <td>0.0</td>\n",
       "      <td>0.0</td>\n",
       "      <td>0.0</td>\n",
       "      <td>0.0</td>\n",
       "      <td>0.0</td>\n",
       "      <td>0.0</td>\n",
       "      <td>0.0</td>\n",
       "      <td>...</td>\n",
       "      <td>0.0</td>\n",
       "      <td>0.0</td>\n",
       "      <td>0.0</td>\n",
       "      <td>0.3</td>\n",
       "      <td>0.0</td>\n",
       "      <td>0.0</td>\n",
       "      <td>0.0</td>\n",
       "      <td>0.0</td>\n",
       "      <td>0.0</td>\n",
       "      <td>0.0</td>\n",
       "    </tr>\n",
       "    <tr>\n",
       "      <th>4</th>\n",
       "      <td>0.0</td>\n",
       "      <td>0.0</td>\n",
       "      <td>0.0</td>\n",
       "      <td>0.0</td>\n",
       "      <td>0.1</td>\n",
       "      <td>0.0</td>\n",
       "      <td>0.0</td>\n",
       "      <td>0.0</td>\n",
       "      <td>0.0</td>\n",
       "      <td>0.1</td>\n",
       "      <td>...</td>\n",
       "      <td>0.0</td>\n",
       "      <td>0.0</td>\n",
       "      <td>0.0</td>\n",
       "      <td>0.0</td>\n",
       "      <td>0.1</td>\n",
       "      <td>0.0</td>\n",
       "      <td>0.0</td>\n",
       "      <td>0.0</td>\n",
       "      <td>0.0</td>\n",
       "      <td>0.0</td>\n",
       "    </tr>\n",
       "    <tr>\n",
       "      <th>5</th>\n",
       "      <td>0.0</td>\n",
       "      <td>0.0</td>\n",
       "      <td>0.0</td>\n",
       "      <td>0.1</td>\n",
       "      <td>0.0</td>\n",
       "      <td>0.0</td>\n",
       "      <td>0.1</td>\n",
       "      <td>0.0</td>\n",
       "      <td>0.0</td>\n",
       "      <td>0.0</td>\n",
       "      <td>...</td>\n",
       "      <td>0.0</td>\n",
       "      <td>0.0</td>\n",
       "      <td>0.0</td>\n",
       "      <td>0.0</td>\n",
       "      <td>0.0</td>\n",
       "      <td>0.0</td>\n",
       "      <td>0.0</td>\n",
       "      <td>0.0</td>\n",
       "      <td>0.0</td>\n",
       "      <td>0.0</td>\n",
       "    </tr>\n",
       "    <tr>\n",
       "      <th>6</th>\n",
       "      <td>0.0</td>\n",
       "      <td>0.0</td>\n",
       "      <td>0.0</td>\n",
       "      <td>0.0</td>\n",
       "      <td>0.0</td>\n",
       "      <td>0.0</td>\n",
       "      <td>0.0</td>\n",
       "      <td>0.0</td>\n",
       "      <td>0.0</td>\n",
       "      <td>0.0</td>\n",
       "      <td>...</td>\n",
       "      <td>0.0</td>\n",
       "      <td>0.0</td>\n",
       "      <td>0.0</td>\n",
       "      <td>0.0</td>\n",
       "      <td>0.0</td>\n",
       "      <td>0.0</td>\n",
       "      <td>0.0</td>\n",
       "      <td>0.0</td>\n",
       "      <td>0.0</td>\n",
       "      <td>0.0</td>\n",
       "    </tr>\n",
       "    <tr>\n",
       "      <th>7</th>\n",
       "      <td>0.0</td>\n",
       "      <td>0.0</td>\n",
       "      <td>0.0</td>\n",
       "      <td>0.0</td>\n",
       "      <td>0.0</td>\n",
       "      <td>0.0</td>\n",
       "      <td>0.0</td>\n",
       "      <td>0.0</td>\n",
       "      <td>0.0</td>\n",
       "      <td>0.0</td>\n",
       "      <td>...</td>\n",
       "      <td>0.0</td>\n",
       "      <td>0.0</td>\n",
       "      <td>0.0</td>\n",
       "      <td>0.0</td>\n",
       "      <td>0.0</td>\n",
       "      <td>0.0</td>\n",
       "      <td>0.0</td>\n",
       "      <td>0.0</td>\n",
       "      <td>0.4</td>\n",
       "      <td>0.0</td>\n",
       "    </tr>\n",
       "    <tr>\n",
       "      <th>8</th>\n",
       "      <td>0.0</td>\n",
       "      <td>0.0</td>\n",
       "      <td>0.0</td>\n",
       "      <td>0.0</td>\n",
       "      <td>0.0</td>\n",
       "      <td>0.0</td>\n",
       "      <td>0.0</td>\n",
       "      <td>0.0</td>\n",
       "      <td>0.0</td>\n",
       "      <td>0.0</td>\n",
       "      <td>...</td>\n",
       "      <td>0.0</td>\n",
       "      <td>0.0</td>\n",
       "      <td>0.0</td>\n",
       "      <td>0.0</td>\n",
       "      <td>0.0</td>\n",
       "      <td>0.0</td>\n",
       "      <td>0.0</td>\n",
       "      <td>0.0</td>\n",
       "      <td>0.0</td>\n",
       "      <td>0.0</td>\n",
       "    </tr>\n",
       "    <tr>\n",
       "      <th>9</th>\n",
       "      <td>0.0</td>\n",
       "      <td>0.0</td>\n",
       "      <td>0.0</td>\n",
       "      <td>0.2</td>\n",
       "      <td>0.0</td>\n",
       "      <td>0.0</td>\n",
       "      <td>0.0</td>\n",
       "      <td>0.0</td>\n",
       "      <td>0.0</td>\n",
       "      <td>0.0</td>\n",
       "      <td>...</td>\n",
       "      <td>0.0</td>\n",
       "      <td>0.0</td>\n",
       "      <td>0.0</td>\n",
       "      <td>0.0</td>\n",
       "      <td>0.0</td>\n",
       "      <td>0.0</td>\n",
       "      <td>0.0</td>\n",
       "      <td>0.0</td>\n",
       "      <td>0.0</td>\n",
       "      <td>0.0</td>\n",
       "    </tr>\n",
       "  </tbody>\n",
       "</table>\n",
       "<p>10 rows × 800 columns</p>\n",
       "</div>"
      ],
      "text/plain": [
       "   able  absolutely  across  actually  add  added  afternoon  ago  almost  \\\n",
       "0   0.0         0.0     0.0       0.0  0.0    0.0        0.0  0.0     0.0   \n",
       "1   0.0         0.0     0.0       0.0  0.0    0.0        0.0  0.0     0.0   \n",
       "2   0.0         0.2     0.0       0.1  0.0    0.0        0.0  0.0     0.0   \n",
       "3   0.0         0.3     0.0       0.0  0.0    0.0        0.0  0.0     0.0   \n",
       "4   0.0         0.0     0.0       0.0  0.1    0.0        0.0  0.0     0.0   \n",
       "5   0.0         0.0     0.0       0.1  0.0    0.0        0.1  0.0     0.0   \n",
       "6   0.0         0.0     0.0       0.0  0.0    0.0        0.0  0.0     0.0   \n",
       "7   0.0         0.0     0.0       0.0  0.0    0.0        0.0  0.0     0.0   \n",
       "8   0.0         0.0     0.0       0.0  0.0    0.0        0.0  0.0     0.0   \n",
       "9   0.0         0.0     0.0       0.2  0.0    0.0        0.0  0.0     0.0   \n",
       "\n",
       "   along  ...  year  years  yelp  yes  yet  youll  youre  youve  yum  yummy  \n",
       "0    0.0  ...   0.0    0.0   0.0  0.0  0.0    0.0    0.0    0.0  0.0    0.0  \n",
       "1    0.0  ...   0.0    0.0   0.0  0.0  0.0    0.0    0.0    0.0  0.0    0.0  \n",
       "2    0.0  ...   0.0    0.0   0.0  0.0  0.0    0.0    0.0    0.0  0.0    0.0  \n",
       "3    0.0  ...   0.0    0.0   0.0  0.3  0.0    0.0    0.0    0.0  0.0    0.0  \n",
       "4    0.1  ...   0.0    0.0   0.0  0.0  0.1    0.0    0.0    0.0  0.0    0.0  \n",
       "5    0.0  ...   0.0    0.0   0.0  0.0  0.0    0.0    0.0    0.0  0.0    0.0  \n",
       "6    0.0  ...   0.0    0.0   0.0  0.0  0.0    0.0    0.0    0.0  0.0    0.0  \n",
       "7    0.0  ...   0.0    0.0   0.0  0.0  0.0    0.0    0.0    0.0  0.4    0.0  \n",
       "8    0.0  ...   0.0    0.0   0.0  0.0  0.0    0.0    0.0    0.0  0.0    0.0  \n",
       "9    0.0  ...   0.0    0.0   0.0  0.0  0.0    0.0    0.0    0.0  0.0    0.0  \n",
       "\n",
       "[10 rows x 800 columns]"
      ]
     },
     "execution_count": 114,
     "metadata": {},
     "output_type": "execute_result"
    }
   ],
   "source": [
    "round(dtm2.head(10),1)"
   ]
  },
  {
   "cell_type": "code",
   "execution_count": 32,
   "metadata": {},
   "outputs": [],
   "source": [
    "# ngram level tf-idf \n",
    "tfidf_vect_ngram = TfidfVectorizer(analyzer='word', token_pattern='\\w{1,}', ngram_range=(1, 2), max_features=800)\n",
    "tfidf_vect_ngram.fit(df['text'])\n",
    "xtrain_tfidf_ngram =  tfidf_vect_ngram.transform(X_train)\n",
    "xtest_tfidf_ngram =  tfidf_vect_ngram.transform(X_test)"
   ]
  },
  {
   "cell_type": "code",
   "execution_count": 33,
   "metadata": {},
   "outputs": [],
   "source": [
    "# characters level tf-idf\n",
    "tfidf_vect_ngram_chars = TfidfVectorizer(analyzer='char', token_pattern='\\w{1,}', ngram_range=(1,2), max_features=800)\n",
    "tfidf_vect_ngram_chars.fit(df['text'])\n",
    "xtrain_tfidf_ngram_chars =  tfidf_vect_ngram_chars.transform(X_train) \n",
    "xtest_tfidf_ngram_chars =  tfidf_vect_ngram_chars.transform(X_test)"
   ]
  },
  {
   "cell_type": "markdown",
   "metadata": {},
   "source": [
    "### Topic Modeling"
   ]
  },
  {
   "cell_type": "code",
   "execution_count": 134,
   "metadata": {},
   "outputs": [],
   "source": [
    "# train a LDA Model\n",
    "lda_model = decomposition.LatentDirichletAllocation(n_components=20, learning_method='batch', max_iter=50)\n",
    "X_topics = lda_model.fit_transform(X_train_tfidf)\n",
    "topic_word = lda_model.components_ \n",
    "vocab = count_vect.get_feature_names()"
   ]
  },
  {
   "cell_type": "code",
   "execution_count": 135,
   "metadata": {},
   "outputs": [
    {
     "data": {
      "text/plain": [
       "['reason needed great special another ago star even years got',\n",
       " 'great food service good friendly staff love clean prices place',\n",
       " 'sushi happy hour roll best rolls love amazing tuna great',\n",
       " 'good food place ordered chicken salad great like really cheese',\n",
       " 'burger fries burgers potato sweet bbq crispy expensive toppings cheese',\n",
       " 'market wow drive company special fast buy business stop order',\n",
       " 'yum need say money value low cheap free taking totally',\n",
       " 'great coffee place hotel pool room nice good movie area',\n",
       " 'place like get one time good go great dont really',\n",
       " 'beer bar sports watch game music crowd wings fun great',\n",
       " 'great wine food amazing place happy service atmosphere nice patio',\n",
       " 'thai phone curry priced noodles dish call way four wont',\n",
       " 'pizza crust wings best pie slices salads thin sausage ive',\n",
       " 'closed guys loved fair girls location place beautiful looks recently',\n",
       " 'pho spring rolls mexican noodles home quick food bowl tasty',\n",
       " 'food good place mexican tacos great like chinese chicken always',\n",
       " 'ice cream tea chocolate flavors cake iced coffee frozen yummy',\n",
       " 'bad go added wouldnt long food average coming please place',\n",
       " 'dr dog office care highly staff best anyone recommend seats',\n",
       " 'club unfortunately dont overpriced business like sunday morning day problem']"
      ]
     },
     "execution_count": 135,
     "metadata": {},
     "output_type": "execute_result"
    }
   ],
   "source": [
    "# view the topic models\n",
    "n_top_words = 10\n",
    "topic_summaries = []\n",
    "for i, topic_dist in enumerate(topic_word):\n",
    "    topic_words = np.array(vocab)[np.argsort(topic_dist)][:-(n_top_words+1):-1]\n",
    "    topic_summaries.append(' '.join(topic_words))\n",
    "\n",
    "topic_summaries"
   ]
  },
  {
   "cell_type": "markdown",
   "metadata": {},
   "source": [
    "### Yelp data - Word clouds"
   ]
  },
  {
   "cell_type": "code",
   "execution_count": 39,
   "metadata": {},
   "outputs": [],
   "source": [
    "frequency_words_wo_stop= {}\n",
    "for data in yelp['text']:\n",
    "    tokens = nltk.wordpunct_tokenize(data.lower())\n",
    "    for token in tokens:\n",
    "        if token.lower() not in stop:\n",
    "            if token in frequency_words_wo_stop:\n",
    "                count = frequency_words_wo_stop[token]\n",
    "                count = count + 1\n",
    "                frequency_words_wo_stop[token] = count\n",
    "            else:\n",
    "                frequency_words_wo_stop[token] = 1\n",
    "                "
   ]
  },
  {
   "cell_type": "code",
   "execution_count": 121,
   "metadata": {},
   "outputs": [],
   "source": [
    "frequency_words_wo_stop"
   ]
  },
  {
   "cell_type": "code",
   "execution_count": 48,
   "metadata": {},
   "outputs": [],
   "source": [
    "from wordcloud import WordCloud ,STOPWORDS"
   ]
  },
  {
   "cell_type": "code",
   "execution_count": 41,
   "metadata": {},
   "outputs": [
    {
     "data": {
      "text/plain": [
       "<matplotlib.image.AxesImage at 0x1a221d5f98>"
      ]
     },
     "execution_count": 41,
     "metadata": {},
     "output_type": "execute_result"
    },
    {
     "data": {
      "image/png": "[encoded data removed]",
      "text/plain": [
       "<Figure size 14400x3600 with 1 Axes>"
      ]
     },
     "metadata": {},
     "output_type": "display_data"
    }
   ],
   "source": [
    "wordcloud = WordCloud(stopwords=[]).generate(' '.join(X_train.tolist()))\n",
    "\n",
    "%matplotlib inline\n",
    "fig = plt.figure(figsize=(200,50))\n",
    "plt.imshow(wordcloud)"
   ]
  },
  {
   "cell_type": "markdown",
   "metadata": {},
   "source": [
    "### Create user defined function for train the models"
   ]
  },
  {
   "cell_type": "code",
   "execution_count": 43,
   "metadata": {},
   "outputs": [],
   "source": [
    "def train_model(classifier, feature_vector_train, label, feature_vector_valid,  valid_y, is_neural_net=False):\n",
    "    # fit the training dataset on the classifier\n",
    "    classifier.fit(feature_vector_train, label)\n",
    "    \n",
    "    # predict the labels on validation dataset\n",
    "    predictions = classifier.predict(feature_vector_valid)\n",
    "    \n",
    "    if is_neural_net:\n",
    "        predictions = predictions.argmax(axis=-1)\n",
    "    \n",
    "    return metrics.accuracy_score(predictions, valid_y)"
   ]
  },
  {
   "cell_type": "markdown",
   "metadata": {},
   "source": [
    "### Building different models with different vectors"
   ]
  },
  {
   "cell_type": "code",
   "execution_count": 44,
   "metadata": {},
   "outputs": [
    {
     "name": "stdout",
     "output_type": "stream",
     "text": [
      "NB  for L1, Count Vectors:  0.4736\n"
     ]
    }
   ],
   "source": [
    "#Naive Bayes\n",
    "# Naive Bayes on Count Vectors and TF-IDF\n",
    "accuracy_L1 = train_model(naive_bayes.MultinomialNB(), X_train_tfidf, y_train, X_test_tfidf, y_test)\n",
    "print(\"NB  for L1, Count Vectors: \", accuracy_L1)\n"
   ]
  },
  {
   "cell_type": "code",
   "execution_count": 45,
   "metadata": {},
   "outputs": [
    {
     "name": "stdout",
     "output_type": "stream",
     "text": [
      "NB  for L1, WordLevel TF-IDF:  0.508\n"
     ]
    }
   ],
   "source": [
    "# Naive Bayes on Word Level TF Vectors\n",
    "accuracy_L1 = train_model(naive_bayes.MultinomialNB(), xtrain_count, y_train, xtest_count, y_test)\n",
    "print(\"NB  for L1, WordLevel TF: \", accuracy_L1)"
   ]
  },
  {
   "cell_type": "code",
   "execution_count": 46,
   "metadata": {},
   "outputs": [
    {
     "name": "stdout",
     "output_type": "stream",
     "text": [
      "NB  for L1, N-Gram Vectors:  0.4512\n",
      "NB for L1, CharLevel Vectors:  0.4028\n"
     ]
    }
   ],
   "source": [
    "# Naive Bayes on Ngram Level TF IDF Vectors\n",
    "accuracy_L1 = train_model(naive_bayes.MultinomialNB(), xtrain_tfidf_ngram, y_train, xtest_tfidf_ngram, y_test)\n",
    "print(\"NB  for L1, N-Gram Vectors: \", accuracy_L1)\n",
    "\n",
    "\n",
    "\n",
    "# Naive Bayes on Character Level TF IDF Vectors\n",
    "accuracy_L1 = train_model(naive_bayes.MultinomialNB(), xtrain_tfidf_ngram_chars, y_train, xtest_tfidf_ngram_chars, y_test)\n",
    "print(\"NB for L1, CharLevel Vectors: \", accuracy_L1)\n",
    "\n"
   ]
  },
  {
   "cell_type": "code",
   "execution_count": 47,
   "metadata": {},
   "outputs": [
    {
     "name": "stdout",
     "output_type": "stream",
     "text": [
      "LR  for L1, Count Vectors:  0.5164\n",
      "LR  for L1, WordLevel TF-IDF:  0.4824\n",
      "LR  for L1, N-Gram Vectors:  0.4988\n",
      "LR for L1, CharLevel Vectors:  0.4324\n"
     ]
    }
   ],
   "source": [
    "#Logistic Regression\n",
    "# Logistic Regression on Count Vectors and TF-IDF\n",
    "accuracy_L1 = train_model(LogisticRegression(), X_train_tfidf, y_train, X_test_tfidf, y_test)\n",
    "print(\"LR  for L1, Count Vectors: \", accuracy_L1)\n",
    "\n",
    "\n",
    "\n",
    "# Logistic Regression on Word Level TF Vectors\n",
    "accuracy_L1 = train_model(LogisticRegression(), xtrain_count, y_train, xtest_count, y_test)\n",
    "print(\"LR  for L1, WordLevel TF-IDF: \", accuracy_L1)\n",
    "\n",
    "\n",
    "\n",
    "# Logistic Regression on Ngram Level TF IDF Vectors\n",
    "accuracy_L1 = train_model(LogisticRegression(), xtrain_tfidf_ngram, y_train, xtest_tfidf_ngram, y_test)\n",
    "print(\"LR  for L1, N-Gram Vectors: \", accuracy_L1)\n",
    "\n",
    "\n",
    "\n",
    "# Logistic Regression on Character Level TF IDF Vectors\n",
    "accuracy_L1 = train_model(LogisticRegression(), xtrain_tfidf_ngram_chars, y_train, xtest_tfidf_ngram_chars, y_test)\n",
    "print(\"LR for L1, CharLevel Vectors: \", accuracy_L1)"
   ]
  },
  {
   "cell_type": "code",
   "execution_count": 48,
   "metadata": {},
   "outputs": [
    {
     "name": "stdout",
     "output_type": "stream",
     "text": [
      "SVC  for L1, Count Vectors:  0.4976\n",
      "SVC  for L1, WordLevel TF-IDF:  0.482\n",
      "SVC  for L1, N-Gram Vectors:  0.4976\n",
      "SVC for L1, CharLevel Vectors:  0.4608\n"
     ]
    }
   ],
   "source": [
    "#Linear SVC\n",
    "# Linear SVC on Count Vectors and TF-IDF\n",
    "accuracy_L1 = train_model(svm.LinearSVC(), X_train_tfidf, y_train, X_test_tfidf, y_test)\n",
    "print(\"SVC  for L1, Count Vectors: \", accuracy_L1)\n",
    "\n",
    "\n",
    "\n",
    "# Linear SVC on Word Level TF Vectors\n",
    "accuracy_L1 = train_model(svm.LinearSVC(), xtrain_count, y_train, xtest_count, y_test)\n",
    "print(\"SVC  for L1, WordLevel TF-IDF: \", accuracy_L1)\n",
    "\n",
    "\n",
    "\n",
    "# Linear SVC on Ngram Level TF IDF Vectors\n",
    "accuracy_L1 = train_model(svm.LinearSVC(), xtrain_tfidf_ngram, y_train, xtest_tfidf_ngram, y_test)\n",
    "print(\"SVC  for L1, N-Gram Vectors: \", accuracy_L1)\n",
    "\n",
    "\n",
    "\n",
    "# Linear SVC on Character Level TF IDF Vectors\n",
    "accuracy_L1 = train_model(svm.LinearSVC(), xtrain_tfidf_ngram_chars, y_train, xtest_tfidf_ngram_chars, y_test)\n",
    "print(\"SVC for L1, CharLevel Vectors: \", accuracy_L1)"
   ]
  },
  {
   "cell_type": "markdown",
   "metadata": {},
   "source": [
    "### Adding Features to a Document-Term Matrix"
   ]
  },
  {
   "cell_type": "code",
   "execution_count": 123,
   "metadata": {},
   "outputs": [],
   "source": [
    "# create a DataFrame that only contains the 5-star and 1-star reviews\n",
    "yelp = yelp[(yelp.stars==5) | (yelp.stars==1)]\n",
    "\n",
    "# define X and y\n",
    "feature_cols = ['text', 'sentiment', 'cool', 'useful', 'funny']\n",
    "X = yelp[feature_cols]\n",
    "y = yelp.stars\n",
    "\n",
    "# split into training and testing sets\n",
    "X_train, X_test, y_train, y_test = train_test_split(X, y, random_state=1)"
   ]
  },
  {
   "cell_type": "code",
   "execution_count": null,
   "metadata": {},
   "outputs": [],
   "source": []
  },
  {
   "cell_type": "code",
   "execution_count": 80,
   "metadata": {},
   "outputs": [],
   "source": [
    "TfidfVectorizer?"
   ]
  },
  {
   "cell_type": "code",
   "execution_count": 50,
   "metadata": {},
   "outputs": [
    {
     "name": "stdout",
     "output_type": "stream",
     "text": [
      "(3064, 1000)\n",
      "(1022, 1000)\n"
     ]
    },
    {
     "data": {
      "text/plain": [
       "(3064, 4)"
      ]
     },
     "execution_count": 50,
     "metadata": {},
     "output_type": "execute_result"
    }
   ],
   "source": [
    "# use CountVectorizer with text column only\n",
    "vect = TfidfVectorizer(lowercase=True, stop_words='english', max_features=1000, min_df=5, ngram_range=(1, 2))\n",
    "X_train_dtm = vect.fit_transform(X_train.text)\n",
    "X_test_dtm = vect.transform(X_test.text)\n",
    "print(X_train_dtm.shape)\n",
    "print(X_test_dtm.shape)\n",
    "\n",
    "# shape of other four feature columns\n",
    "X_train.drop('text', axis=1).shape"
   ]
  },
  {
   "cell_type": "code",
   "execution_count": 54,
   "metadata": {},
   "outputs": [
    {
     "name": "stdout",
     "output_type": "stream",
     "text": [
      "(3064, 16825)\n",
      "(1022, 16825)\n"
     ]
    },
    {
     "data": {
      "text/plain": [
       "(3064, 4)"
      ]
     },
     "execution_count": 54,
     "metadata": {},
     "output_type": "execute_result"
    }
   ],
   "source": [
    "# use CountVectorizer with text column only\n",
    "vect = CountVectorizer()\n",
    "X_train_dtm = vect.fit_transform(X_train.text)\n",
    "X_test_dtm = vect.transform(X_test.text)\n",
    "print(X_train_dtm.shape)\n",
    "print(X_test_dtm.shape)\n",
    "\n",
    "# shape of other four feature columns\n",
    "X_train.drop('text', axis=1).shape"
   ]
  },
  {
   "cell_type": "code",
   "execution_count": 55,
   "metadata": {},
   "outputs": [
    {
     "data": {
      "text/plain": [
       "(1022, 16829)"
      ]
     },
     "execution_count": 55,
     "metadata": {},
     "output_type": "execute_result"
    }
   ],
   "source": [
    "# cast other feature columns to float and convert to a sparse matrix\n",
    "extra = sparse.csr_matrix(X_train.drop('text', axis=1).astype(float))\n",
    "extra.shape\n",
    "\n",
    "# combine sparse matrices\n",
    "X_train_dtm_extra = sparse.hstack((X_train_dtm, extra))\n",
    "X_train_dtm_extra.shape\n",
    "\n",
    "# repeat for testing set\n",
    "extra = sparse.csr_matrix(X_test.drop('text', axis=1).astype(float))\n",
    "X_test_dtm_extra = sparse.hstack((X_test_dtm, extra))\n",
    "X_test_dtm_extra.shape"
   ]
  },
  {
   "cell_type": "code",
   "execution_count": 56,
   "metadata": {},
   "outputs": [
    {
     "name": "stdout",
     "output_type": "stream",
     "text": [
      "0.9178082191780822\n"
     ]
    }
   ],
   "source": [
    "# use logistic regression with text column only\n",
    "logreg = LogisticRegression(C=1e9)\n",
    "logreg.fit(X_train_dtm, y_train)\n",
    "y_pred_class = logreg.predict(X_test_dtm)\n",
    "print(metrics.accuracy_score(y_test, y_pred_class))"
   ]
  },
  {
   "cell_type": "code",
   "execution_count": 57,
   "metadata": {},
   "outputs": [
    {
     "name": "stdout",
     "output_type": "stream",
     "text": [
      "0.9227005870841487\n"
     ]
    }
   ],
   "source": [
    "# use logistic regression with all features\n",
    "logreg = LogisticRegression(C=1e9)\n",
    "logreg.fit(X_train_dtm_extra, y_train)\n",
    "y_pred_class = logreg.predict(X_test_dtm_extra)\n",
    "print(metrics.accuracy_score(y_test, y_pred_class))"
   ]
  },
  {
   "cell_type": "code",
   "execution_count": null,
   "metadata": {},
   "outputs": [],
   "source": []
  },
  {
   "cell_type": "markdown",
   "metadata": {},
   "source": [
    "### Basic to additional TextBlob features"
   ]
  },
  {
   "cell_type": "markdown",
   "metadata": {},
   "source": [
    "TextBlob: \"Simplified Text Processing\""
   ]
  },
  {
   "cell_type": "code",
   "execution_count": 61,
   "metadata": {},
   "outputs": [
    {
     "name": "stdout",
     "output_type": "stream",
     "text": [
      "I have no idea why some people give bad reviews about this place. It goes to show you, you can please everyone. They are probably griping about something that their own fault...there are many people like that.\n",
      "\n",
      "In any case, my friend and I arrived at about 5:50 PM this past Sunday. It was pretty crowded, more than I thought for a Sunday evening and thought we would have to wait forever to get a seat but they said we'll be seated when the girl comes back from seating someone else. We were seated at 5:52 and the waiter came and got our drink orders. Everyone was very pleasant from the host that seated us to the waiter to the server. The prices were very good as well. We placed our orders once we decided what we wanted at 6:02. We shared the baked spaghetti calzone and the small \"Here's The Beef\" pizza so we can both try them. The calzone was huge and we got the smallest one (personal) and got the small 11\" pizza. Both were awesome! My friend liked the pizza better and I liked the calzone better. The calzone does have a sweetish sauce but that's how I like my sauce!\n",
      "\n",
      "We had to box part of the pizza to take it home and we were out the door by 6:42. So, everything was great and not like these bad reviewers. That goes to show you that  you have to try these things yourself because all these bad reviewers have some serious issues.\n"
     ]
    }
   ],
   "source": [
    "print(yelp.text[1])"
   ]
  },
  {
   "cell_type": "code",
   "execution_count": 141,
   "metadata": {},
   "outputs": [
    {
     "name": "stdout",
     "output_type": "stream",
     "text": [
      "My wife took me here on my birthday for breakfast and it was excellent.  The weather was perfect which made sitting outside overlooking their grounds an absolute pleasure.  Our waitress was excellent and our food arrived quickly on the semi-busy Saturday morning.  It looked like the place fills up pretty quickly so the earlier you get here the better.\n",
      "\n",
      "Do yourself a favor and get their Bloody Mary.  It was phenomenal and simply the best I've ever had.  I'm pretty sure they only use ingredients from their garden and blend them fresh when you order it.  It was amazing.\n",
      "\n",
      "While EVERYTHING on the menu looks excellent, I had the white truffle scrambled eggs vegetable skillet and it was tasty and delicious.  It came with 2 pieces of their griddled bread with was amazing and it absolutely made the meal complete.  It was the best \"toast\" I've ever had.\n",
      "\n",
      "Anyway, I can't wait to go back!\n"
     ]
    }
   ],
   "source": [
    "# print the first review\n",
    "print(yelp.text[0])"
   ]
  },
  {
   "cell_type": "code",
   "execution_count": 125,
   "metadata": {},
   "outputs": [
    {
     "data": {
      "text/plain": [
       "TextBlob(\"Good food, like it, excellent and recommended\")"
      ]
     },
     "execution_count": 125,
     "metadata": {},
     "output_type": "execute_result"
    }
   ],
   "source": [
    "# save it as a TextBlob object\n",
    "review = TextBlob(yelp.text[1])\n",
    "review1 = TextBlob('Good food, like it, excellent and recommended')\n",
    "review1"
   ]
  },
  {
   "cell_type": "code",
   "execution_count": 126,
   "metadata": {},
   "outputs": [
    {
     "data": {
      "text/plain": [
       "Sentiment(polarity=0.22977272727272727, subjectivity=0.6384848484848485)"
      ]
     },
     "execution_count": 126,
     "metadata": {},
     "output_type": "execute_result"
    }
   ],
   "source": [
    "review.sentiment"
   ]
  },
  {
   "cell_type": "code",
   "execution_count": 127,
   "metadata": {},
   "outputs": [
    {
     "name": "stdout",
     "output_type": "stream",
     "text": [
      "['__add__', '__class__', '__contains__', '__delattr__', '__dict__', '__dir__', '__doc__', '__eq__', '__format__', '__ge__', '__getattribute__', '__getitem__', '__gt__', '__hash__', '__init__', '__init_subclass__', '__iter__', '__le__', '__len__', '__lt__', '__module__', '__ne__', '__new__', '__reduce__', '__reduce_ex__', '__repr__', '__setattr__', '__sizeof__', '__str__', '__subclasshook__', '__weakref__', '_cmpkey', '_compare', '_create_sentence_objects', '_strkey', 'analyzer', 'classifier', 'classify', 'correct', 'detect_language', 'ends_with', 'endswith', 'find', 'format', 'index', 'join', 'json', 'lower', 'ngrams', 'noun_phrases', 'np_counts', 'np_extractor', 'parse', 'parser', 'polarity', 'pos_tagger', 'pos_tags', 'raw', 'raw_sentences', 'replace', 'rfind', 'rindex', 'sentences', 'sentiment', 'sentiment_assessments', 'serialized', 'split', 'starts_with', 'startswith', 'string', 'strip', 'stripped', 'subjectivity', 'tags', 'title', 'to_json', 'tokenize', 'tokenizer', 'tokens', 'translate', 'translator', 'upper', 'word_counts', 'words']\n"
     ]
    }
   ],
   "source": [
    "print(dir(review))"
   ]
  },
  {
   "cell_type": "code",
   "execution_count": 128,
   "metadata": {},
   "outputs": [
    {
     "name": "stdout",
     "output_type": "stream",
     "text": [
      "[WordList(['I']), WordList(['have']), WordList(['no']), WordList(['idea']), WordList(['why']), WordList(['some']), WordList(['people']), WordList(['give']), WordList(['bad']), WordList(['reviews']), WordList(['about']), WordList(['this']), WordList(['place']), WordList(['It']), WordList(['goes']), WordList(['to']), WordList(['show']), WordList(['you']), WordList(['you']), WordList(['can']), WordList(['please']), WordList(['everyone']), WordList(['They']), WordList(['are']), WordList(['probably']), WordList(['griping']), WordList(['about']), WordList(['something']), WordList(['that']), WordList(['their']), WordList(['own']), WordList(['fault']), WordList(['there']), WordList(['are']), WordList(['many']), WordList(['people']), WordList(['like']), WordList(['that']), WordList(['In']), WordList(['any']), WordList(['case']), WordList(['my']), WordList(['friend']), WordList(['and']), WordList(['I']), WordList(['arrived']), WordList(['at']), WordList(['about']), WordList(['5:50']), WordList(['PM']), WordList(['this']), WordList(['past']), WordList(['Sunday']), WordList(['It']), WordList(['was']), WordList(['pretty']), WordList(['crowded']), WordList(['more']), WordList(['than']), WordList(['I']), WordList(['thought']), WordList(['for']), WordList(['a']), WordList(['Sunday']), WordList(['evening']), WordList(['and']), WordList(['thought']), WordList(['we']), WordList(['would']), WordList(['have']), WordList(['to']), WordList(['wait']), WordList(['forever']), WordList(['to']), WordList(['get']), WordList(['a']), WordList(['seat']), WordList(['but']), WordList(['they']), WordList(['said']), WordList(['we']), WordList([\"'ll\"]), WordList(['be']), WordList(['seated']), WordList(['when']), WordList(['the']), WordList(['girl']), WordList(['comes']), WordList(['back']), WordList(['from']), WordList(['seating']), WordList(['someone']), WordList(['else']), WordList(['We']), WordList(['were']), WordList(['seated']), WordList(['at']), WordList(['5:52']), WordList(['and']), WordList(['the']), WordList(['waiter']), WordList(['came']), WordList(['and']), WordList(['got']), WordList(['our']), WordList(['drink']), WordList(['orders']), WordList(['Everyone']), WordList(['was']), WordList(['very']), WordList(['pleasant']), WordList(['from']), WordList(['the']), WordList(['host']), WordList(['that']), WordList(['seated']), WordList(['us']), WordList(['to']), WordList(['the']), WordList(['waiter']), WordList(['to']), WordList(['the']), WordList(['server']), WordList(['The']), WordList(['prices']), WordList(['were']), WordList(['very']), WordList(['good']), WordList(['as']), WordList(['well']), WordList(['We']), WordList(['placed']), WordList(['our']), WordList(['orders']), WordList(['once']), WordList(['we']), WordList(['decided']), WordList(['what']), WordList(['we']), WordList(['wanted']), WordList(['at']), WordList(['6:02']), WordList(['We']), WordList(['shared']), WordList(['the']), WordList(['baked']), WordList(['spaghetti']), WordList(['calzone']), WordList(['and']), WordList(['the']), WordList(['small']), WordList(['Here']), WordList([\"'s\"]), WordList(['The']), WordList(['Beef']), WordList(['pizza']), WordList(['so']), WordList(['we']), WordList(['can']), WordList(['both']), WordList(['try']), WordList(['them']), WordList(['The']), WordList(['calzone']), WordList(['was']), WordList(['huge']), WordList(['and']), WordList(['we']), WordList(['got']), WordList(['the']), WordList(['smallest']), WordList(['one']), WordList(['personal']), WordList(['and']), WordList(['got']), WordList(['the']), WordList(['small']), WordList(['11']), WordList(['pizza']), WordList(['Both']), WordList(['were']), WordList(['awesome']), WordList(['My']), WordList(['friend']), WordList(['liked']), WordList(['the']), WordList(['pizza']), WordList(['better']), WordList(['and']), WordList(['I']), WordList(['liked']), WordList(['the']), WordList(['calzone']), WordList(['better']), WordList(['The']), WordList(['calzone']), WordList(['does']), WordList(['have']), WordList(['a']), WordList(['sweetish']), WordList(['sauce']), WordList(['but']), WordList(['that']), WordList([\"'s\"]), WordList(['how']), WordList(['I']), WordList(['like']), WordList(['my']), WordList(['sauce']), WordList(['We']), WordList(['had']), WordList(['to']), WordList(['box']), WordList(['part']), WordList(['of']), WordList(['the']), WordList(['pizza']), WordList(['to']), WordList(['take']), WordList(['it']), WordList(['home']), WordList(['and']), WordList(['we']), WordList(['were']), WordList(['out']), WordList(['the']), WordList(['door']), WordList(['by']), WordList(['6:42']), WordList(['So']), WordList(['everything']), WordList(['was']), WordList(['great']), WordList(['and']), WordList(['not']), WordList(['like']), WordList(['these']), WordList(['bad']), WordList(['reviewers']), WordList(['That']), WordList(['goes']), WordList(['to']), WordList(['show']), WordList(['you']), WordList(['that']), WordList(['you']), WordList(['have']), WordList(['to']), WordList(['try']), WordList(['these']), WordList(['things']), WordList(['yourself']), WordList(['because']), WordList(['all']), WordList(['these']), WordList(['bad']), WordList(['reviewers']), WordList(['have']), WordList(['some']), WordList(['serious']), WordList(['issues'])]\n"
     ]
    }
   ],
   "source": [
    "print(review.ngrams(1))"
   ]
  },
  {
   "cell_type": "code",
   "execution_count": 129,
   "metadata": {},
   "outputs": [
    {
     "data": {
      "text/plain": [
       "Sentiment(polarity=0.22977272727272727, subjectivity=0.6384848484848485)"
      ]
     },
     "execution_count": 129,
     "metadata": {},
     "output_type": "execute_result"
    }
   ],
   "source": [
    "review.sentiment"
   ]
  },
  {
   "cell_type": "code",
   "execution_count": 5,
   "metadata": {},
   "outputs": [
    {
     "data": {
      "text/plain": [
       "WordList(['I', 'have', 'no', 'idea', 'why', 'some', 'people', 'give', 'bad', 'reviews', 'about', 'this', 'place', 'It', 'goes', 'to', 'show', 'you', 'you', 'can', 'please', 'everyone', 'They', 'are', 'probably', 'griping', 'about', 'something', 'that', 'their', 'own', 'fault', 'there', 'are', 'many', 'people', 'like', 'that', 'In', 'any', 'case', 'my', 'friend', 'and', 'I', 'arrived', 'at', 'about', '5:50', 'PM', 'this', 'past', 'Sunday', 'It', 'was', 'pretty', 'crowded', 'more', 'than', 'I', 'thought', 'for', 'a', 'Sunday', 'evening', 'and', 'thought', 'we', 'would', 'have', 'to', 'wait', 'forever', 'to', 'get', 'a', 'seat', 'but', 'they', 'said', 'we', \"'ll\", 'be', 'seated', 'when', 'the', 'girl', 'comes', 'back', 'from', 'seating', 'someone', 'else', 'We', 'were', 'seated', 'at', '5:52', 'and', 'the', 'waiter', 'came', 'and', 'got', 'our', 'drink', 'orders', 'Everyone', 'was', 'very', 'pleasant', 'from', 'the', 'host', 'that', 'seated', 'us', 'to', 'the', 'waiter', 'to', 'the', 'server', 'The', 'prices', 'were', 'very', 'good', 'as', 'well', 'We', 'placed', 'our', 'orders', 'once', 'we', 'decided', 'what', 'we', 'wanted', 'at', '6:02', 'We', 'shared', 'the', 'baked', 'spaghetti', 'calzone', 'and', 'the', 'small', 'Here', \"'s\", 'The', 'Beef', 'pizza', 'so', 'we', 'can', 'both', 'try', 'them', 'The', 'calzone', 'was', 'huge', 'and', 'we', 'got', 'the', 'smallest', 'one', 'personal', 'and', 'got', 'the', 'small', '11', 'pizza', 'Both', 'were', 'awesome', 'My', 'friend', 'liked', 'the', 'pizza', 'better', 'and', 'I', 'liked', 'the', 'calzone', 'better', 'The', 'calzone', 'does', 'have', 'a', 'sweetish', 'sauce', 'but', 'that', \"'s\", 'how', 'I', 'like', 'my', 'sauce', 'We', 'had', 'to', 'box', 'part', 'of', 'the', 'pizza', 'to', 'take', 'it', 'home', 'and', 'we', 'were', 'out', 'the', 'door', 'by', '6:42', 'So', 'everything', 'was', 'great', 'and', 'not', 'like', 'these', 'bad', 'reviewers', 'That', 'goes', 'to', 'show', 'you', 'that', 'you', 'have', 'to', 'try', 'these', 'things', 'yourself', 'because', 'all', 'these', 'bad', 'reviewers', 'have', 'some', 'serious', 'issues'])"
      ]
     },
     "execution_count": 5,
     "metadata": {},
     "output_type": "execute_result"
    }
   ],
   "source": [
    "# list the words\n",
    "review.words"
   ]
  },
  {
   "cell_type": "code",
   "execution_count": 80,
   "metadata": {},
   "outputs": [
    {
     "data": {
      "text/plain": [
       "[Sentence(\"I have no idea why some people give bad reviews about this place.\"),\n",
       " Sentence(\"It goes to show you, you can please everyone.\"),\n",
       " Sentence(\"They are probably griping about something that their own fault...there are many people like that.\"),\n",
       " Sentence(\"In any case, my friend and I arrived at about 5:50 PM this past Sunday.\"),\n",
       " Sentence(\"It was pretty crowded, more than I thought for a Sunday evening and thought we would have to wait forever to get a seat but they said we'll be seated when the girl comes back from seating someone else.\"),\n",
       " Sentence(\"We were seated at 5:52 and the waiter came and got our drink orders.\"),\n",
       " Sentence(\"Everyone was very pleasant from the host that seated us to the waiter to the server.\"),\n",
       " Sentence(\"The prices were very good as well.\"),\n",
       " Sentence(\"We placed our orders once we decided what we wanted at 6:02.\"),\n",
       " Sentence(\"We shared the baked spaghetti calzone and the small \"Here's The Beef\" pizza so we can both try them.\"),\n",
       " Sentence(\"The calzone was huge and we got the smallest one (personal) and got the small 11\" pizza.\"),\n",
       " Sentence(\"Both were awesome!\"),\n",
       " Sentence(\"My friend liked the pizza better and I liked the calzone better.\"),\n",
       " Sentence(\"The calzone does have a sweetish sauce but that's how I like my sauce!\"),\n",
       " Sentence(\"We had to box part of the pizza to take it home and we were out the door by 6:42.\"),\n",
       " Sentence(\"So, everything was great and not like these bad reviewers.\"),\n",
       " Sentence(\"That goes to show you that  you have to try these things yourself because all these bad reviewers have some serious issues.\")]"
      ]
     },
     "execution_count": 80,
     "metadata": {},
     "output_type": "execute_result"
    }
   ],
   "source": [
    "# list the sentences\n",
    "review.sentences"
   ]
  },
  {
   "cell_type": "code",
   "execution_count": 81,
   "metadata": {},
   "outputs": [
    {
     "data": {
      "text/plain": [
       "TextBlob(\"i have no idea why some people give bad reviews about this place. it goes to show you, you can please everyone. they are probably griping about something that their own fault...there are many people like that.\n",
       "\n",
       "in any case, my friend and i arrived at about 5:50 pm this past sunday. it was pretty crowded, more than i thought for a sunday evening and thought we would have to wait forever to get a seat but they said we'll be seated when the girl comes back from seating someone else. we were seated at 5:52 and the waiter came and got our drink orders. everyone was very pleasant from the host that seated us to the waiter to the server. the prices were very good as well. we placed our orders once we decided what we wanted at 6:02. we shared the baked spaghetti calzone and the small \"here's the beef\" pizza so we can both try them. the calzone was huge and we got the smallest one (personal) and got the small 11\" pizza. both were awesome! my friend liked the pizza better and i liked the calzone better. the calzone does have a sweetish sauce but that's how i like my sauce!\n",
       "\n",
       "we had to box part of the pizza to take it home and we were out the door by 6:42. so, everything was great and not like these bad reviewers. that goes to show you that  you have to try these things yourself because all these bad reviewers have some serious issues.\")"
      ]
     },
     "execution_count": 81,
     "metadata": {},
     "output_type": "execute_result"
    }
   ],
   "source": [
    "# some string methods are available\n",
    "review.lower()"
   ]
  },
  {
   "cell_type": "code",
   "execution_count": 82,
   "metadata": {},
   "outputs": [
    {
     "data": {
      "text/plain": [
       "[WordList(['I', 'have']),\n",
       " WordList(['have', 'no']),\n",
       " WordList(['no', 'idea']),\n",
       " WordList(['idea', 'why']),\n",
       " WordList(['why', 'some']),\n",
       " WordList(['some', 'people']),\n",
       " WordList(['people', 'give']),\n",
       " WordList(['give', 'bad']),\n",
       " WordList(['bad', 'reviews']),\n",
       " WordList(['reviews', 'about']),\n",
       " WordList(['about', 'this']),\n",
       " WordList(['this', 'place']),\n",
       " WordList(['place', 'It']),\n",
       " WordList(['It', 'goes']),\n",
       " WordList(['goes', 'to']),\n",
       " WordList(['to', 'show']),\n",
       " WordList(['show', 'you']),\n",
       " WordList(['you', 'you']),\n",
       " WordList(['you', 'can']),\n",
       " WordList(['can', 'please']),\n",
       " WordList(['please', 'everyone']),\n",
       " WordList(['everyone', 'They']),\n",
       " WordList(['They', 'are']),\n",
       " WordList(['are', 'probably']),\n",
       " WordList(['probably', 'griping']),\n",
       " WordList(['griping', 'about']),\n",
       " WordList(['about', 'something']),\n",
       " WordList(['something', 'that']),\n",
       " WordList(['that', 'their']),\n",
       " WordList(['their', 'own']),\n",
       " WordList(['own', 'fault']),\n",
       " WordList(['fault', 'there']),\n",
       " WordList(['there', 'are']),\n",
       " WordList(['are', 'many']),\n",
       " WordList(['many', 'people']),\n",
       " WordList(['people', 'like']),\n",
       " WordList(['like', 'that']),\n",
       " WordList(['that', 'In']),\n",
       " WordList(['In', 'any']),\n",
       " WordList(['any', 'case']),\n",
       " WordList(['case', 'my']),\n",
       " WordList(['my', 'friend']),\n",
       " WordList(['friend', 'and']),\n",
       " WordList(['and', 'I']),\n",
       " WordList(['I', 'arrived']),\n",
       " WordList(['arrived', 'at']),\n",
       " WordList(['at', 'about']),\n",
       " WordList(['about', '5:50']),\n",
       " WordList(['5:50', 'PM']),\n",
       " WordList(['PM', 'this']),\n",
       " WordList(['this', 'past']),\n",
       " WordList(['past', 'Sunday']),\n",
       " WordList(['Sunday', 'It']),\n",
       " WordList(['It', 'was']),\n",
       " WordList(['was', 'pretty']),\n",
       " WordList(['pretty', 'crowded']),\n",
       " WordList(['crowded', 'more']),\n",
       " WordList(['more', 'than']),\n",
       " WordList(['than', 'I']),\n",
       " WordList(['I', 'thought']),\n",
       " WordList(['thought', 'for']),\n",
       " WordList(['for', 'a']),\n",
       " WordList(['a', 'Sunday']),\n",
       " WordList(['Sunday', 'evening']),\n",
       " WordList(['evening', 'and']),\n",
       " WordList(['and', 'thought']),\n",
       " WordList(['thought', 'we']),\n",
       " WordList(['we', 'would']),\n",
       " WordList(['would', 'have']),\n",
       " WordList(['have', 'to']),\n",
       " WordList(['to', 'wait']),\n",
       " WordList(['wait', 'forever']),\n",
       " WordList(['forever', 'to']),\n",
       " WordList(['to', 'get']),\n",
       " WordList(['get', 'a']),\n",
       " WordList(['a', 'seat']),\n",
       " WordList(['seat', 'but']),\n",
       " WordList(['but', 'they']),\n",
       " WordList(['they', 'said']),\n",
       " WordList(['said', 'we']),\n",
       " WordList(['we', \"'ll\"]),\n",
       " WordList([\"'ll\", 'be']),\n",
       " WordList(['be', 'seated']),\n",
       " WordList(['seated', 'when']),\n",
       " WordList(['when', 'the']),\n",
       " WordList(['the', 'girl']),\n",
       " WordList(['girl', 'comes']),\n",
       " WordList(['comes', 'back']),\n",
       " WordList(['back', 'from']),\n",
       " WordList(['from', 'seating']),\n",
       " WordList(['seating', 'someone']),\n",
       " WordList(['someone', 'else']),\n",
       " WordList(['else', 'We']),\n",
       " WordList(['We', 'were']),\n",
       " WordList(['were', 'seated']),\n",
       " WordList(['seated', 'at']),\n",
       " WordList(['at', '5:52']),\n",
       " WordList(['5:52', 'and']),\n",
       " WordList(['and', 'the']),\n",
       " WordList(['the', 'waiter']),\n",
       " WordList(['waiter', 'came']),\n",
       " WordList(['came', 'and']),\n",
       " WordList(['and', 'got']),\n",
       " WordList(['got', 'our']),\n",
       " WordList(['our', 'drink']),\n",
       " WordList(['drink', 'orders']),\n",
       " WordList(['orders', 'Everyone']),\n",
       " WordList(['Everyone', 'was']),\n",
       " WordList(['was', 'very']),\n",
       " WordList(['very', 'pleasant']),\n",
       " WordList(['pleasant', 'from']),\n",
       " WordList(['from', 'the']),\n",
       " WordList(['the', 'host']),\n",
       " WordList(['host', 'that']),\n",
       " WordList(['that', 'seated']),\n",
       " WordList(['seated', 'us']),\n",
       " WordList(['us', 'to']),\n",
       " WordList(['to', 'the']),\n",
       " WordList(['the', 'waiter']),\n",
       " WordList(['waiter', 'to']),\n",
       " WordList(['to', 'the']),\n",
       " WordList(['the', 'server']),\n",
       " WordList(['server', 'The']),\n",
       " WordList(['The', 'prices']),\n",
       " WordList(['prices', 'were']),\n",
       " WordList(['were', 'very']),\n",
       " WordList(['very', 'good']),\n",
       " WordList(['good', 'as']),\n",
       " WordList(['as', 'well']),\n",
       " WordList(['well', 'We']),\n",
       " WordList(['We', 'placed']),\n",
       " WordList(['placed', 'our']),\n",
       " WordList(['our', 'orders']),\n",
       " WordList(['orders', 'once']),\n",
       " WordList(['once', 'we']),\n",
       " WordList(['we', 'decided']),\n",
       " WordList(['decided', 'what']),\n",
       " WordList(['what', 'we']),\n",
       " WordList(['we', 'wanted']),\n",
       " WordList(['wanted', 'at']),\n",
       " WordList(['at', '6:02']),\n",
       " WordList(['6:02', 'We']),\n",
       " WordList(['We', 'shared']),\n",
       " WordList(['shared', 'the']),\n",
       " WordList(['the', 'baked']),\n",
       " WordList(['baked', 'spaghetti']),\n",
       " WordList(['spaghetti', 'calzone']),\n",
       " WordList(['calzone', 'and']),\n",
       " WordList(['and', 'the']),\n",
       " WordList(['the', 'small']),\n",
       " WordList(['small', 'Here']),\n",
       " WordList(['Here', \"'s\"]),\n",
       " WordList([\"'s\", 'The']),\n",
       " WordList(['The', 'Beef']),\n",
       " WordList(['Beef', 'pizza']),\n",
       " WordList(['pizza', 'so']),\n",
       " WordList(['so', 'we']),\n",
       " WordList(['we', 'can']),\n",
       " WordList(['can', 'both']),\n",
       " WordList(['both', 'try']),\n",
       " WordList(['try', 'them']),\n",
       " WordList(['them', 'The']),\n",
       " WordList(['The', 'calzone']),\n",
       " WordList(['calzone', 'was']),\n",
       " WordList(['was', 'huge']),\n",
       " WordList(['huge', 'and']),\n",
       " WordList(['and', 'we']),\n",
       " WordList(['we', 'got']),\n",
       " WordList(['got', 'the']),\n",
       " WordList(['the', 'smallest']),\n",
       " WordList(['smallest', 'one']),\n",
       " WordList(['one', 'personal']),\n",
       " WordList(['personal', 'and']),\n",
       " WordList(['and', 'got']),\n",
       " WordList(['got', 'the']),\n",
       " WordList(['the', 'small']),\n",
       " WordList(['small', '11']),\n",
       " WordList(['11', 'pizza']),\n",
       " WordList(['pizza', 'Both']),\n",
       " WordList(['Both', 'were']),\n",
       " WordList(['were', 'awesome']),\n",
       " WordList(['awesome', 'My']),\n",
       " WordList(['My', 'friend']),\n",
       " WordList(['friend', 'liked']),\n",
       " WordList(['liked', 'the']),\n",
       " WordList(['the', 'pizza']),\n",
       " WordList(['pizza', 'better']),\n",
       " WordList(['better', 'and']),\n",
       " WordList(['and', 'I']),\n",
       " WordList(['I', 'liked']),\n",
       " WordList(['liked', 'the']),\n",
       " WordList(['the', 'calzone']),\n",
       " WordList(['calzone', 'better']),\n",
       " WordList(['better', 'The']),\n",
       " WordList(['The', 'calzone']),\n",
       " WordList(['calzone', 'does']),\n",
       " WordList(['does', 'have']),\n",
       " WordList(['have', 'a']),\n",
       " WordList(['a', 'sweetish']),\n",
       " WordList(['sweetish', 'sauce']),\n",
       " WordList(['sauce', 'but']),\n",
       " WordList(['but', 'that']),\n",
       " WordList(['that', \"'s\"]),\n",
       " WordList([\"'s\", 'how']),\n",
       " WordList(['how', 'I']),\n",
       " WordList(['I', 'like']),\n",
       " WordList(['like', 'my']),\n",
       " WordList(['my', 'sauce']),\n",
       " WordList(['sauce', 'We']),\n",
       " WordList(['We', 'had']),\n",
       " WordList(['had', 'to']),\n",
       " WordList(['to', 'box']),\n",
       " WordList(['box', 'part']),\n",
       " WordList(['part', 'of']),\n",
       " WordList(['of', 'the']),\n",
       " WordList(['the', 'pizza']),\n",
       " WordList(['pizza', 'to']),\n",
       " WordList(['to', 'take']),\n",
       " WordList(['take', 'it']),\n",
       " WordList(['it', 'home']),\n",
       " WordList(['home', 'and']),\n",
       " WordList(['and', 'we']),\n",
       " WordList(['we', 'were']),\n",
       " WordList(['were', 'out']),\n",
       " WordList(['out', 'the']),\n",
       " WordList(['the', 'door']),\n",
       " WordList(['door', 'by']),\n",
       " WordList(['by', '6:42']),\n",
       " WordList(['6:42', 'So']),\n",
       " WordList(['So', 'everything']),\n",
       " WordList(['everything', 'was']),\n",
       " WordList(['was', 'great']),\n",
       " WordList(['great', 'and']),\n",
       " WordList(['and', 'not']),\n",
       " WordList(['not', 'like']),\n",
       " WordList(['like', 'these']),\n",
       " WordList(['these', 'bad']),\n",
       " WordList(['bad', 'reviewers']),\n",
       " WordList(['reviewers', 'That']),\n",
       " WordList(['That', 'goes']),\n",
       " WordList(['goes', 'to']),\n",
       " WordList(['to', 'show']),\n",
       " WordList(['show', 'you']),\n",
       " WordList(['you', 'that']),\n",
       " WordList(['that', 'you']),\n",
       " WordList(['you', 'have']),\n",
       " WordList(['have', 'to']),\n",
       " WordList(['to', 'try']),\n",
       " WordList(['try', 'these']),\n",
       " WordList(['these', 'things']),\n",
       " WordList(['things', 'yourself']),\n",
       " WordList(['yourself', 'because']),\n",
       " WordList(['because', 'all']),\n",
       " WordList(['all', 'these']),\n",
       " WordList(['these', 'bad']),\n",
       " WordList(['bad', 'reviewers']),\n",
       " WordList(['reviewers', 'have']),\n",
       " WordList(['have', 'some']),\n",
       " WordList(['some', 'serious']),\n",
       " WordList(['serious', 'issues'])]"
      ]
     },
     "execution_count": 82,
     "metadata": {},
     "output_type": "execute_result"
    }
   ],
   "source": [
    "review.ngrams(n=2)"
   ]
  },
  {
   "cell_type": "markdown",
   "metadata": {},
   "source": [
    "## Language correction, detection, translation etc..."
   ]
  },
  {
   "cell_type": "code",
   "execution_count": 84,
   "metadata": {},
   "outputs": [
    {
     "data": {
      "text/plain": [
       "TextBlob(\"15 minutes late\")"
      ]
     },
     "execution_count": 84,
     "metadata": {},
     "output_type": "execute_result"
    }
   ],
   "source": [
    "# spelling correction\n",
    "TextBlob('15 minuets late').correct()"
   ]
  },
  {
   "cell_type": "code",
   "execution_count": 85,
   "metadata": {},
   "outputs": [],
   "source": [
    "s=\"this is my email adcresc\""
   ]
  },
  {
   "cell_type": "code",
   "execution_count": 86,
   "metadata": {},
   "outputs": [
    {
     "data": {
      "text/plain": [
       "TextBlob(\"this is my email address\")"
      ]
     },
     "execution_count": 86,
     "metadata": {},
     "output_type": "execute_result"
    }
   ],
   "source": [
    "TextBlob(s).correct()"
   ]
  },
  {
   "cell_type": "code",
   "execution_count": 87,
   "metadata": {},
   "outputs": [
    {
     "data": {
      "text/plain": [
       "[('part', 0.9929478138222849), ('parrot', 0.007052186177715092)]"
      ]
     },
     "execution_count": 87,
     "metadata": {},
     "output_type": "execute_result"
    }
   ],
   "source": [
    "# spellcheck\n",
    "Word('parot').spellcheck()"
   ]
  },
  {
   "cell_type": "code",
   "execution_count": 89,
   "metadata": {},
   "outputs": [
    {
     "data": {
      "text/plain": [
       "['sloping land (especially the slope beside a body of water)',\n",
       " 'a financial institution that accepts deposits and channels the money into lending activities',\n",
       " 'a long ridge or pile',\n",
       " 'an arrangement of similar objects in a row or in tiers',\n",
       " 'a supply or stock held in reserve for future use (especially in emergencies)',\n",
       " 'the funds held by a gambling house or the dealer in some gambling games',\n",
       " 'a slope in the turn of a road or track; the outside is higher than the inside in order to reduce the effects of centrifugal force',\n",
       " 'a container (usually with a slot in the top) for keeping money at home',\n",
       " 'a building in which the business of banking transacted',\n",
       " 'a flight maneuver; aircraft tips laterally about its longitudinal axis (especially in turning)']"
      ]
     },
     "execution_count": 89,
     "metadata": {},
     "output_type": "execute_result"
    }
   ],
   "source": [
    "# definitions\n",
    "Word('bank').define('n')"
   ]
  },
  {
   "cell_type": "code",
   "execution_count": 90,
   "metadata": {},
   "outputs": [
    {
     "data": {
      "text/plain": [
       "'te'"
      ]
     },
     "execution_count": 90,
     "metadata": {},
     "output_type": "execute_result"
    }
   ],
   "source": [
    "# language detection\n",
    "TextBlob('టీమిండియా మాజీ ఓపెనర్‌ గౌతమ్ గంభీర్ మంగళవారం క్రికెట్‌కు రిటైర్‌మెంట్ ప్రకటించారు. దానిపై స్పందించిన బాలీవుడ్ స్టార్‌ షారుక్‌ ఖాన్‌ ఓ ట్వీట్ చేశారు').detect_language()"
   ]
  },
  {
   "cell_type": "code",
   "execution_count": 92,
   "metadata": {},
   "outputs": [
    {
     "name": "stdout",
     "output_type": "stream",
     "text": [
      "Former India opener Gautam Gambhir announced his retirement from cricket on Tuesday Bollywood star Shah Rukh Khan tweeted\n"
     ]
    }
   ],
   "source": [
    "# Language Translation\n",
    "a=' '.join(TextBlob('టీమిండియా మాజీ ఓపెనర్‌ గౌతమ్ గంభీర్ మంగళవారం క్రికెట్‌కు రిటైర్‌మెంట్ ప్రకటించారు. దానిపై స్పందించిన బాలీవుడ్ స్టార్‌ షారుక్‌ ఖాన్‌ ఓ ట్వీట్ చేశారు').translate(to='en').words)\n",
    "\n",
    "print(a)"
   ]
  },
  {
   "cell_type": "markdown",
   "metadata": {},
   "source": [
    "## Stemming and Lemmatization"
   ]
  },
  {
   "cell_type": "markdown",
   "metadata": {},
   "source": [
    "**Stemming:**\n",
    "\n",
    "- **What:** Reduce a word to its base/stem/root form\n",
    "- **Why:** Often makes sense to treat related words the same way\n",
    "- **Notes:**\n",
    "    - Uses a \"simple\" and fast rule-based approach\n",
    "    - Stemmed words are usually not shown to users (used for analysis/indexing)\n",
    "    - Some search engines treat words with the same stem as synonyms"
   ]
  },
  {
   "cell_type": "code",
   "execution_count": 7,
   "metadata": {},
   "outputs": [
    {
     "data": {
      "text/plain": [
       "<nltk.stem.snowball.SnowballStemmer at 0x1a0b2186d8>"
      ]
     },
     "execution_count": 7,
     "metadata": {},
     "output_type": "execute_result"
    }
   ],
   "source": [
    "# initialize stemmer\n",
    "stemmer = nltk.stem.snowball.SnowballStemmer('english')\n",
    "stemmer"
   ]
  },
  {
   "cell_type": "code",
   "execution_count": 6,
   "metadata": {},
   "outputs": [
    {
     "data": {
      "text/plain": [
       "WordList(['I', 'have', 'no', 'idea', 'why', 'some', 'people', 'give', 'bad', 'reviews', 'about', 'this', 'place', 'It', 'goes', 'to', 'show', 'you', 'you', 'can', 'please', 'everyone', 'They', 'are', 'probably', 'griping', 'about', 'something', 'that', 'their', 'own', 'fault', 'there', 'are', 'many', 'people', 'like', 'that', 'In', 'any', 'case', 'my', 'friend', 'and', 'I', 'arrived', 'at', 'about', '5:50', 'PM', 'this', 'past', 'Sunday', 'It', 'was', 'pretty', 'crowded', 'more', 'than', 'I', 'thought', 'for', 'a', 'Sunday', 'evening', 'and', 'thought', 'we', 'would', 'have', 'to', 'wait', 'forever', 'to', 'get', 'a', 'seat', 'but', 'they', 'said', 'we', \"'ll\", 'be', 'seated', 'when', 'the', 'girl', 'comes', 'back', 'from', 'seating', 'someone', 'else', 'We', 'were', 'seated', 'at', '5:52', 'and', 'the', 'waiter', 'came', 'and', 'got', 'our', 'drink', 'orders', 'Everyone', 'was', 'very', 'pleasant', 'from', 'the', 'host', 'that', 'seated', 'us', 'to', 'the', 'waiter', 'to', 'the', 'server', 'The', 'prices', 'were', 'very', 'good', 'as', 'well', 'We', 'placed', 'our', 'orders', 'once', 'we', 'decided', 'what', 'we', 'wanted', 'at', '6:02', 'We', 'shared', 'the', 'baked', 'spaghetti', 'calzone', 'and', 'the', 'small', 'Here', \"'s\", 'The', 'Beef', 'pizza', 'so', 'we', 'can', 'both', 'try', 'them', 'The', 'calzone', 'was', 'huge', 'and', 'we', 'got', 'the', 'smallest', 'one', 'personal', 'and', 'got', 'the', 'small', '11', 'pizza', 'Both', 'were', 'awesome', 'My', 'friend', 'liked', 'the', 'pizza', 'better', 'and', 'I', 'liked', 'the', 'calzone', 'better', 'The', 'calzone', 'does', 'have', 'a', 'sweetish', 'sauce', 'but', 'that', \"'s\", 'how', 'I', 'like', 'my', 'sauce', 'We', 'had', 'to', 'box', 'part', 'of', 'the', 'pizza', 'to', 'take', 'it', 'home', 'and', 'we', 'were', 'out', 'the', 'door', 'by', '6:42', 'So', 'everything', 'was', 'great', 'and', 'not', 'like', 'these', 'bad', 'reviewers', 'That', 'goes', 'to', 'show', 'you', 'that', 'you', 'have', 'to', 'try', 'these', 'things', 'yourself', 'because', 'all', 'these', 'bad', 'reviewers', 'have', 'some', 'serious', 'issues'])"
      ]
     },
     "execution_count": 6,
     "metadata": {},
     "output_type": "execute_result"
    }
   ],
   "source": [
    "review.words"
   ]
  },
  {
   "cell_type": "code",
   "execution_count": 8,
   "metadata": {
    "scrolled": true
   },
   "outputs": [
    {
     "name": "stdout",
     "output_type": "stream",
     "text": [
      "['i', 'have', 'no', 'idea', 'whi', 'some', 'peopl', 'give', 'bad', 'review', 'about', 'this', 'place', 'it', 'goe', 'to', 'show', 'you', 'you', 'can', 'pleas', 'everyon', 'they', 'are', 'probabl', 'gripe', 'about', 'someth', 'that', 'their', 'own', 'fault', 'there', 'are', 'mani', 'peopl', 'like', 'that', 'in', 'ani', 'case', 'my', 'friend', 'and', 'i', 'arriv', 'at', 'about', '5:50', 'pm', 'this', 'past', 'sunday', 'it', 'was', 'pretti', 'crowd', 'more', 'than', 'i', 'thought', 'for', 'a', 'sunday', 'even', 'and', 'thought', 'we', 'would', 'have', 'to', 'wait', 'forev', 'to', 'get', 'a', 'seat', 'but', 'they', 'said', 'we', 'll', 'be', 'seat', 'when', 'the', 'girl', 'come', 'back', 'from', 'seat', 'someon', 'els', 'we', 'were', 'seat', 'at', '5:52', 'and', 'the', 'waiter', 'came', 'and', 'got', 'our', 'drink', 'order', 'everyon', 'was', 'veri', 'pleasant', 'from', 'the', 'host', 'that', 'seat', 'us', 'to', 'the', 'waiter', 'to', 'the', 'server', 'the', 'price', 'were', 'veri', 'good', 'as', 'well', 'we', 'place', 'our', 'order', 'onc', 'we', 'decid', 'what', 'we', 'want', 'at', '6:02', 'we', 'share', 'the', 'bake', 'spaghetti', 'calzon', 'and', 'the', 'small', 'here', \"'s\", 'the', 'beef', 'pizza', 'so', 'we', 'can', 'both', 'tri', 'them', 'the', 'calzon', 'was', 'huge', 'and', 'we', 'got', 'the', 'smallest', 'one', 'person', 'and', 'got', 'the', 'small', '11', 'pizza', 'both', 'were', 'awesom', 'my', 'friend', 'like', 'the', 'pizza', 'better', 'and', 'i', 'like', 'the', 'calzon', 'better', 'the', 'calzon', 'doe', 'have', 'a', 'sweetish', 'sauc', 'but', 'that', \"'s\", 'how', 'i', 'like', 'my', 'sauc', 'we', 'had', 'to', 'box', 'part', 'of', 'the', 'pizza', 'to', 'take', 'it', 'home', 'and', 'we', 'were', 'out', 'the', 'door', 'by', '6:42', 'so', 'everyth', 'was', 'great', 'and', 'not', 'like', 'these', 'bad', 'review', 'that', 'goe', 'to', 'show', 'you', 'that', 'you', 'have', 'to', 'tri', 'these', 'thing', 'yourself', 'becaus', 'all', 'these', 'bad', 'review', 'have', 'some', 'serious', 'issu']\n"
     ]
    }
   ],
   "source": [
    "# stem each word\n",
    "print([stemmer.stem(word) for word in review.words])"
   ]
  },
  {
   "cell_type": "markdown",
   "metadata": {},
   "source": [
    "**Lemmatization**\n",
    "\n",
    "- **What:** Derive the canonical form ('lemma') of a word\n",
    "- **Why:** Can be better than stemming\n",
    "- **Notes:** Uses a dictionary-based approach (slower than stemming)"
   ]
  },
  {
   "cell_type": "code",
   "execution_count": 9,
   "metadata": {},
   "outputs": [
    {
     "data": {
      "text/plain": [
       "WordList(['I', 'have', 'no', 'idea', 'why', 'some', 'people', 'give', 'bad', 'reviews', 'about', 'this', 'place', 'It', 'goes', 'to', 'show', 'you', 'you', 'can', 'please', 'everyone', 'They', 'are', 'probably', 'griping', 'about', 'something', 'that', 'their', 'own', 'fault', 'there', 'are', 'many', 'people', 'like', 'that', 'In', 'any', 'case', 'my', 'friend', 'and', 'I', 'arrived', 'at', 'about', '5:50', 'PM', 'this', 'past', 'Sunday', 'It', 'was', 'pretty', 'crowded', 'more', 'than', 'I', 'thought', 'for', 'a', 'Sunday', 'evening', 'and', 'thought', 'we', 'would', 'have', 'to', 'wait', 'forever', 'to', 'get', 'a', 'seat', 'but', 'they', 'said', 'we', \"'ll\", 'be', 'seated', 'when', 'the', 'girl', 'comes', 'back', 'from', 'seating', 'someone', 'else', 'We', 'were', 'seated', 'at', '5:52', 'and', 'the', 'waiter', 'came', 'and', 'got', 'our', 'drink', 'orders', 'Everyone', 'was', 'very', 'pleasant', 'from', 'the', 'host', 'that', 'seated', 'us', 'to', 'the', 'waiter', 'to', 'the', 'server', 'The', 'prices', 'were', 'very', 'good', 'as', 'well', 'We', 'placed', 'our', 'orders', 'once', 'we', 'decided', 'what', 'we', 'wanted', 'at', '6:02', 'We', 'shared', 'the', 'baked', 'spaghetti', 'calzone', 'and', 'the', 'small', 'Here', \"'s\", 'The', 'Beef', 'pizza', 'so', 'we', 'can', 'both', 'try', 'them', 'The', 'calzone', 'was', 'huge', 'and', 'we', 'got', 'the', 'smallest', 'one', 'personal', 'and', 'got', 'the', 'small', '11', 'pizza', 'Both', 'were', 'awesome', 'My', 'friend', 'liked', 'the', 'pizza', 'better', 'and', 'I', 'liked', 'the', 'calzone', 'better', 'The', 'calzone', 'does', 'have', 'a', 'sweetish', 'sauce', 'but', 'that', \"'s\", 'how', 'I', 'like', 'my', 'sauce', 'We', 'had', 'to', 'box', 'part', 'of', 'the', 'pizza', 'to', 'take', 'it', 'home', 'and', 'we', 'were', 'out', 'the', 'door', 'by', '6:42', 'So', 'everything', 'was', 'great', 'and', 'not', 'like', 'these', 'bad', 'reviewers', 'That', 'goes', 'to', 'show', 'you', 'that', 'you', 'have', 'to', 'try', 'these', 'things', 'yourself', 'because', 'all', 'these', 'bad', 'reviewers', 'have', 'some', 'serious', 'issues'])"
      ]
     },
     "execution_count": 9,
     "metadata": {},
     "output_type": "execute_result"
    }
   ],
   "source": [
    "review.words"
   ]
  },
  {
   "cell_type": "code",
   "execution_count": 10,
   "metadata": {},
   "outputs": [
    {
     "name": "stdout",
     "output_type": "stream",
     "text": [
      "['I', 'have', 'no', 'idea', 'why', 'some', 'people', 'give', 'bad', 'review', 'about', 'this', 'place', 'It', 'go', 'to', 'show', 'you', 'you', 'can', 'please', 'everyone', 'They', 'are', 'probably', 'griping', 'about', 'something', 'that', 'their', 'own', 'fault', 'there', 'are', 'many', 'people', 'like', 'that', 'In', 'any', 'case', 'my', 'friend', 'and', 'I', 'arrived', 'at', 'about', '5:50', 'PM', 'this', 'past', 'Sunday', 'It', 'wa', 'pretty', 'crowded', 'more', 'than', 'I', 'thought', 'for', 'a', 'Sunday', 'evening', 'and', 'thought', 'we', 'would', 'have', 'to', 'wait', 'forever', 'to', 'get', 'a', 'seat', 'but', 'they', 'said', 'we', \"'ll\", 'be', 'seated', 'when', 'the', 'girl', 'come', 'back', 'from', 'seating', 'someone', 'else', 'We', 'were', 'seated', 'at', '5:52', 'and', 'the', 'waiter', 'came', 'and', 'got', 'our', 'drink', 'order', 'Everyone', 'wa', 'very', 'pleasant', 'from', 'the', 'host', 'that', 'seated', 'u', 'to', 'the', 'waiter', 'to', 'the', 'server', 'The', 'price', 'were', 'very', 'good', 'a', 'well', 'We', 'placed', 'our', 'order', 'once', 'we', 'decided', 'what', 'we', 'wanted', 'at', '6:02', 'We', 'shared', 'the', 'baked', 'spaghetti', 'calzone', 'and', 'the', 'small', 'Here', \"'s\", 'The', 'Beef', 'pizza', 'so', 'we', 'can', 'both', 'try', 'them', 'The', 'calzone', 'wa', 'huge', 'and', 'we', 'got', 'the', 'smallest', 'one', 'personal', 'and', 'got', 'the', 'small', '11', 'pizza', 'Both', 'were', 'awesome', 'My', 'friend', 'liked', 'the', 'pizza', 'better', 'and', 'I', 'liked', 'the', 'calzone', 'better', 'The', 'calzone', 'doe', 'have', 'a', 'sweetish', 'sauce', 'but', 'that', \"'s\", 'how', 'I', 'like', 'my', 'sauce', 'We', 'had', 'to', 'box', 'part', 'of', 'the', 'pizza', 'to', 'take', 'it', 'home', 'and', 'we', 'were', 'out', 'the', 'door', 'by', '6:42', 'So', 'everything', 'wa', 'great', 'and', 'not', 'like', 'these', 'bad', 'reviewer', 'That', 'go', 'to', 'show', 'you', 'that', 'you', 'have', 'to', 'try', 'these', 'thing', 'yourself', 'because', 'all', 'these', 'bad', 'reviewer', 'have', 'some', 'serious', 'issue']\n"
     ]
    }
   ],
   "source": [
    "# assume every word is a noun\n",
    "print([word.lemmatize() for word in review.words])"
   ]
  },
  {
   "cell_type": "code",
   "execution_count": 11,
   "metadata": {},
   "outputs": [
    {
     "name": "stdout",
     "output_type": "stream",
     "text": [
      "['I', 'have', 'no', 'idea', 'why', 'some', 'people', 'give', 'bad', 'review', 'about', 'this', 'place', 'It', 'go', 'to', 'show', 'you', 'you', 'can', 'please', 'everyone', 'They', 'be', 'probably', 'grip', 'about', 'something', 'that', 'their', 'own', 'fault', 'there', 'be', 'many', 'people', 'like', 'that', 'In', 'any', 'case', 'my', 'friend', 'and', 'I', 'arrive', 'at', 'about', '5:50', 'PM', 'this', 'past', 'Sunday', 'It', 'be', 'pretty', 'crowd', 'more', 'than', 'I', 'think', 'for', 'a', 'Sunday', 'even', 'and', 'think', 'we', 'would', 'have', 'to', 'wait', 'forever', 'to', 'get', 'a', 'seat', 'but', 'they', 'say', 'we', \"'ll\", 'be', 'seat', 'when', 'the', 'girl', 'come', 'back', 'from', 'seat', 'someone', 'else', 'We', 'be', 'seat', 'at', '5:52', 'and', 'the', 'waiter', 'come', 'and', 'get', 'our', 'drink', 'order', 'Everyone', 'be', 'very', 'pleasant', 'from', 'the', 'host', 'that', 'seat', 'us', 'to', 'the', 'waiter', 'to', 'the', 'server', 'The', 'price', 'be', 'very', 'good', 'as', 'well', 'We', 'place', 'our', 'order', 'once', 'we', 'decide', 'what', 'we', 'want', 'at', '6:02', 'We', 'share', 'the', 'bake', 'spaghetti', 'calzone', 'and', 'the', 'small', 'Here', \"'s\", 'The', 'Beef', 'pizza', 'so', 'we', 'can', 'both', 'try', 'them', 'The', 'calzone', 'be', 'huge', 'and', 'we', 'get', 'the', 'smallest', 'one', 'personal', 'and', 'get', 'the', 'small', '11', 'pizza', 'Both', 'be', 'awesome', 'My', 'friend', 'like', 'the', 'pizza', 'better', 'and', 'I', 'like', 'the', 'calzone', 'better', 'The', 'calzone', 'do', 'have', 'a', 'sweetish', 'sauce', 'but', 'that', \"'s\", 'how', 'I', 'like', 'my', 'sauce', 'We', 'have', 'to', 'box', 'part', 'of', 'the', 'pizza', 'to', 'take', 'it', 'home', 'and', 'we', 'be', 'out', 'the', 'door', 'by', '6:42', 'So', 'everything', 'be', 'great', 'and', 'not', 'like', 'these', 'bad', 'reviewers', 'That', 'go', 'to', 'show', 'you', 'that', 'you', 'have', 'to', 'try', 'these', 'things', 'yourself', 'because', 'all', 'these', 'bad', 'reviewers', 'have', 'some', 'serious', 'issue']\n"
     ]
    }
   ],
   "source": [
    "# assume every word is a verb\n",
    "print([word.lemmatize(pos='v') for word in review.words])"
   ]
  },
  {
   "cell_type": "code",
   "execution_count": 161,
   "metadata": {},
   "outputs": [],
   "source": [
    "# define a function that accepts text and returns a list of lemmas\n",
    "def split_into_lemmas(text):\n",
    "    #text = unicode(text, 'utf-8').lower()\n",
    "    text = text.lower()\n",
    "    words = TextBlob(text).words\n",
    "    return [word.lemmatize() for word in words]"
   ]
  },
  {
   "cell_type": "code",
   "execution_count": 162,
   "metadata": {},
   "outputs": [
    {
     "name": "stdout",
     "output_type": "stream",
     "text": [
      "Features:  27212\n",
      "Accuracy:  0.4624\n"
     ]
    }
   ],
   "source": [
    "# use split_into_lemmas as the feature extraction function (WARNING: SLOW!)\n",
    "vect = CountVectorizer(analyzer=split_into_lemmas)\n",
    "tokenize_test(vect)"
   ]
  },
  {
   "cell_type": "code",
   "execution_count": null,
   "metadata": {},
   "outputs": [],
   "source": [
    "# last 50 features\n",
    "print(vect.get_feature_names()[-50:])"
   ]
  }
 ],
 "metadata": {
  "kernelspec": {
   "display_name": "Python 3",
   "language": "python",
   "name": "python3"
  },
  "language_info": {
   "codemirror_mode": {
    "name": "ipython",
    "version": 3
   },
   "file_extension": ".py",
   "mimetype": "text/x-python",
   "name": "python",
   "nbconvert_exporter": "python",
   "pygments_lexer": "ipython3",
   "version": "3.8.5"
  }
 },
 "nbformat": 4,
 "nbformat_minor": 1
}
